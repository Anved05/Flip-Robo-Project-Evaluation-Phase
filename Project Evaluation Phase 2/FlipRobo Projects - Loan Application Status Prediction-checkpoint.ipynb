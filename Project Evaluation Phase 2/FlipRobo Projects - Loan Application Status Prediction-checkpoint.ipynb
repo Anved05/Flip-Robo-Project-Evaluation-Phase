{
 "cells": [
  {
   "cell_type": "markdown",
   "id": "7b16c97e",
   "metadata": {},
   "source": [
    "# Loan Application Status Prediction"
   ]
  },
  {
   "cell_type": "markdown",
   "id": "ea46ee0b",
   "metadata": {},
   "source": [
    "**Problem Definition**"
   ]
  },
  {
   "cell_type": "markdown",
   "id": "d0464858",
   "metadata": {},
   "source": [
    "This dataset includes details of applicants who have applied for loan. The dataset includes details like credit history, loan amount, their income, dependents etc. \n",
    "\n",
    "To build a model that can predict whether the loan of the applicant will be approved(Loan_status) or not on the basis of the details provided in the dataset. \n",
    "\n",
    "Classification type of the Problem "
   ]
  },
  {
   "cell_type": "code",
   "execution_count": 55,
   "id": "bdf3fcb2",
   "metadata": {},
   "outputs": [],
   "source": [
    "# Importing Libraries\n",
    "import pandas as pd\n",
    "import numpy as np\n",
    "import matplotlib.pyplot as plt\n",
    "%matplotlib inline\n",
    "import seaborn as sns\n",
    "\n",
    "import warnings\n",
    "warnings.filterwarnings(\"ignore\")"
   ]
  },
  {
   "cell_type": "code",
   "execution_count": 56,
   "id": "296e43aa",
   "metadata": {},
   "outputs": [
    {
     "data": {
      "text/html": [
       "<div>\n",
       "<style scoped>\n",
       "    .dataframe tbody tr th:only-of-type {\n",
       "        vertical-align: middle;\n",
       "    }\n",
       "\n",
       "    .dataframe tbody tr th {\n",
       "        vertical-align: top;\n",
       "    }\n",
       "\n",
       "    .dataframe thead th {\n",
       "        text-align: right;\n",
       "    }\n",
       "</style>\n",
       "<table border=\"1\" class=\"dataframe\">\n",
       "  <thead>\n",
       "    <tr style=\"text-align: right;\">\n",
       "      <th></th>\n",
       "      <th>Loan_ID</th>\n",
       "      <th>Gender</th>\n",
       "      <th>Married</th>\n",
       "      <th>Dependents</th>\n",
       "      <th>Education</th>\n",
       "      <th>Self_Employed</th>\n",
       "      <th>ApplicantIncome</th>\n",
       "      <th>CoapplicantIncome</th>\n",
       "      <th>LoanAmount</th>\n",
       "      <th>Loan_Amount_Term</th>\n",
       "      <th>Credit_History</th>\n",
       "      <th>Property_Area</th>\n",
       "      <th>Loan_Status</th>\n",
       "    </tr>\n",
       "  </thead>\n",
       "  <tbody>\n",
       "    <tr>\n",
       "      <th>0</th>\n",
       "      <td>LP001002</td>\n",
       "      <td>Male</td>\n",
       "      <td>No</td>\n",
       "      <td>0</td>\n",
       "      <td>Graduate</td>\n",
       "      <td>No</td>\n",
       "      <td>5849</td>\n",
       "      <td>0.0</td>\n",
       "      <td>NaN</td>\n",
       "      <td>360.0</td>\n",
       "      <td>1.0</td>\n",
       "      <td>Urban</td>\n",
       "      <td>Y</td>\n",
       "    </tr>\n",
       "    <tr>\n",
       "      <th>1</th>\n",
       "      <td>LP001003</td>\n",
       "      <td>Male</td>\n",
       "      <td>Yes</td>\n",
       "      <td>1</td>\n",
       "      <td>Graduate</td>\n",
       "      <td>No</td>\n",
       "      <td>4583</td>\n",
       "      <td>1508.0</td>\n",
       "      <td>128.0</td>\n",
       "      <td>360.0</td>\n",
       "      <td>1.0</td>\n",
       "      <td>Rural</td>\n",
       "      <td>N</td>\n",
       "    </tr>\n",
       "    <tr>\n",
       "      <th>2</th>\n",
       "      <td>LP001005</td>\n",
       "      <td>Male</td>\n",
       "      <td>Yes</td>\n",
       "      <td>0</td>\n",
       "      <td>Graduate</td>\n",
       "      <td>Yes</td>\n",
       "      <td>3000</td>\n",
       "      <td>0.0</td>\n",
       "      <td>66.0</td>\n",
       "      <td>360.0</td>\n",
       "      <td>1.0</td>\n",
       "      <td>Urban</td>\n",
       "      <td>Y</td>\n",
       "    </tr>\n",
       "    <tr>\n",
       "      <th>3</th>\n",
       "      <td>LP001006</td>\n",
       "      <td>Male</td>\n",
       "      <td>Yes</td>\n",
       "      <td>0</td>\n",
       "      <td>Not Graduate</td>\n",
       "      <td>No</td>\n",
       "      <td>2583</td>\n",
       "      <td>2358.0</td>\n",
       "      <td>120.0</td>\n",
       "      <td>360.0</td>\n",
       "      <td>1.0</td>\n",
       "      <td>Urban</td>\n",
       "      <td>Y</td>\n",
       "    </tr>\n",
       "    <tr>\n",
       "      <th>4</th>\n",
       "      <td>LP001008</td>\n",
       "      <td>Male</td>\n",
       "      <td>No</td>\n",
       "      <td>0</td>\n",
       "      <td>Graduate</td>\n",
       "      <td>No</td>\n",
       "      <td>6000</td>\n",
       "      <td>0.0</td>\n",
       "      <td>141.0</td>\n",
       "      <td>360.0</td>\n",
       "      <td>1.0</td>\n",
       "      <td>Urban</td>\n",
       "      <td>Y</td>\n",
       "    </tr>\n",
       "    <tr>\n",
       "      <th>...</th>\n",
       "      <td>...</td>\n",
       "      <td>...</td>\n",
       "      <td>...</td>\n",
       "      <td>...</td>\n",
       "      <td>...</td>\n",
       "      <td>...</td>\n",
       "      <td>...</td>\n",
       "      <td>...</td>\n",
       "      <td>...</td>\n",
       "      <td>...</td>\n",
       "      <td>...</td>\n",
       "      <td>...</td>\n",
       "      <td>...</td>\n",
       "    </tr>\n",
       "    <tr>\n",
       "      <th>609</th>\n",
       "      <td>LP002978</td>\n",
       "      <td>Female</td>\n",
       "      <td>No</td>\n",
       "      <td>0</td>\n",
       "      <td>Graduate</td>\n",
       "      <td>No</td>\n",
       "      <td>2900</td>\n",
       "      <td>0.0</td>\n",
       "      <td>71.0</td>\n",
       "      <td>360.0</td>\n",
       "      <td>1.0</td>\n",
       "      <td>Rural</td>\n",
       "      <td>Y</td>\n",
       "    </tr>\n",
       "    <tr>\n",
       "      <th>610</th>\n",
       "      <td>LP002979</td>\n",
       "      <td>Male</td>\n",
       "      <td>Yes</td>\n",
       "      <td>3+</td>\n",
       "      <td>Graduate</td>\n",
       "      <td>No</td>\n",
       "      <td>4106</td>\n",
       "      <td>0.0</td>\n",
       "      <td>40.0</td>\n",
       "      <td>180.0</td>\n",
       "      <td>1.0</td>\n",
       "      <td>Rural</td>\n",
       "      <td>Y</td>\n",
       "    </tr>\n",
       "    <tr>\n",
       "      <th>611</th>\n",
       "      <td>LP002983</td>\n",
       "      <td>Male</td>\n",
       "      <td>Yes</td>\n",
       "      <td>1</td>\n",
       "      <td>Graduate</td>\n",
       "      <td>No</td>\n",
       "      <td>8072</td>\n",
       "      <td>240.0</td>\n",
       "      <td>253.0</td>\n",
       "      <td>360.0</td>\n",
       "      <td>1.0</td>\n",
       "      <td>Urban</td>\n",
       "      <td>Y</td>\n",
       "    </tr>\n",
       "    <tr>\n",
       "      <th>612</th>\n",
       "      <td>LP002984</td>\n",
       "      <td>Male</td>\n",
       "      <td>Yes</td>\n",
       "      <td>2</td>\n",
       "      <td>Graduate</td>\n",
       "      <td>No</td>\n",
       "      <td>7583</td>\n",
       "      <td>0.0</td>\n",
       "      <td>187.0</td>\n",
       "      <td>360.0</td>\n",
       "      <td>1.0</td>\n",
       "      <td>Urban</td>\n",
       "      <td>Y</td>\n",
       "    </tr>\n",
       "    <tr>\n",
       "      <th>613</th>\n",
       "      <td>LP002990</td>\n",
       "      <td>Female</td>\n",
       "      <td>No</td>\n",
       "      <td>0</td>\n",
       "      <td>Graduate</td>\n",
       "      <td>Yes</td>\n",
       "      <td>4583</td>\n",
       "      <td>0.0</td>\n",
       "      <td>133.0</td>\n",
       "      <td>360.0</td>\n",
       "      <td>0.0</td>\n",
       "      <td>Semiurban</td>\n",
       "      <td>N</td>\n",
       "    </tr>\n",
       "  </tbody>\n",
       "</table>\n",
       "<p>614 rows × 13 columns</p>\n",
       "</div>"
      ],
      "text/plain": [
       "      Loan_ID  Gender Married Dependents     Education Self_Employed  \\\n",
       "0    LP001002    Male      No          0      Graduate            No   \n",
       "1    LP001003    Male     Yes          1      Graduate            No   \n",
       "2    LP001005    Male     Yes          0      Graduate           Yes   \n",
       "3    LP001006    Male     Yes          0  Not Graduate            No   \n",
       "4    LP001008    Male      No          0      Graduate            No   \n",
       "..        ...     ...     ...        ...           ...           ...   \n",
       "609  LP002978  Female      No          0      Graduate            No   \n",
       "610  LP002979    Male     Yes         3+      Graduate            No   \n",
       "611  LP002983    Male     Yes          1      Graduate            No   \n",
       "612  LP002984    Male     Yes          2      Graduate            No   \n",
       "613  LP002990  Female      No          0      Graduate           Yes   \n",
       "\n",
       "     ApplicantIncome  CoapplicantIncome  LoanAmount  Loan_Amount_Term  \\\n",
       "0               5849                0.0         NaN             360.0   \n",
       "1               4583             1508.0       128.0             360.0   \n",
       "2               3000                0.0        66.0             360.0   \n",
       "3               2583             2358.0       120.0             360.0   \n",
       "4               6000                0.0       141.0             360.0   \n",
       "..               ...                ...         ...               ...   \n",
       "609             2900                0.0        71.0             360.0   \n",
       "610             4106                0.0        40.0             180.0   \n",
       "611             8072              240.0       253.0             360.0   \n",
       "612             7583                0.0       187.0             360.0   \n",
       "613             4583                0.0       133.0             360.0   \n",
       "\n",
       "     Credit_History Property_Area Loan_Status  \n",
       "0               1.0         Urban           Y  \n",
       "1               1.0         Rural           N  \n",
       "2               1.0         Urban           Y  \n",
       "3               1.0         Urban           Y  \n",
       "4               1.0         Urban           Y  \n",
       "..              ...           ...         ...  \n",
       "609             1.0         Rural           Y  \n",
       "610             1.0         Rural           Y  \n",
       "611             1.0         Urban           Y  \n",
       "612             1.0         Urban           Y  \n",
       "613             0.0     Semiurban           N  \n",
       "\n",
       "[614 rows x 13 columns]"
      ]
     },
     "execution_count": 56,
     "metadata": {},
     "output_type": "execute_result"
    }
   ],
   "source": [
    "# Loading the dataset\n",
    "df=pd.read_csv(\"https://raw.githubusercontent.com/dsrscientist/DSData/master/loan_prediction.csv\")\n",
    "df"
   ]
  },
  {
   "cell_type": "code",
   "execution_count": 57,
   "id": "bfc727ac",
   "metadata": {},
   "outputs": [
    {
     "data": {
      "text/plain": [
       "(614, 13)"
      ]
     },
     "execution_count": 57,
     "metadata": {},
     "output_type": "execute_result"
    }
   ],
   "source": [
    "# Checking shape of data\n",
    "df.shape"
   ]
  },
  {
   "cell_type": "markdown",
   "id": "05728fea",
   "metadata": {},
   "source": [
    "The dataset is having 614 rows and 13 columns.\n",
    "\n",
    "Independent Variables:\n",
    "1.\tLoan_ID - This refer to the unique identifier of the applicant's affirmed purchases\n",
    "2.\tGender - This refers to either of the two main categories (male and female) into which applicants are divided on the basis of their reproductive functions\n",
    "3.\tMarried - This refers to applicant being in a state of matrimony\n",
    "4.\tDependents - This refres to persons who depends on the applicants for survival\n",
    "5.\tEducation - This refers to number of years in which applicant received systematic instruction, especially at a school or university\n",
    "6.\tSelf_Employed - This refers to applicant working for oneself as a freelancer or the owner of a business rather than for an employer\n",
    "7.\tApplicant Income - This refers to disposable income available for the applicant's use under State law.\n",
    "8.\tCoapplicantIncome - This refers to disposable income available for the people that participate in the loan application process alongside the main applicant use under State law.\n",
    "9.\tLoan_Amount - This refers to the amount of money an applicant owe at any given time.\n",
    "10.\tLoan_Amount_Term - This refers to the duaration in which the loan is availed to the applicant\n",
    "11.\tCredit History - This refers to a record of applicant's ability to repay debts and demonstrated responsibility in repaying them.\n",
    "12.\tProperty_Area - This refers to the total area within the boundaries of the property as set out in Schedule.\n",
    "\n",
    "Dependent Variable:\n",
    "13.\tLoan_Status - This refres to whether applicant is eligible to be availed the Loan "
   ]
  },
  {
   "cell_type": "code",
   "execution_count": 6,
   "id": "aad624e8",
   "metadata": {},
   "outputs": [
    {
     "data": {
      "text/plain": [
       "Loan_ID               object\n",
       "Gender                object\n",
       "Married               object\n",
       "Dependents            object\n",
       "Education             object\n",
       "Self_Employed         object\n",
       "ApplicantIncome        int64\n",
       "CoapplicantIncome    float64\n",
       "LoanAmount           float64\n",
       "Loan_Amount_Term     float64\n",
       "Credit_History       float64\n",
       "Property_Area         object\n",
       "Loan_Status           object\n",
       "dtype: object"
      ]
     },
     "execution_count": 6,
     "metadata": {},
     "output_type": "execute_result"
    }
   ],
   "source": [
    "# Checking thetype of the data\n",
    "df.dtypes"
   ]
  },
  {
   "cell_type": "markdown",
   "id": "5a3077a5",
   "metadata": {},
   "source": [
    "Observations\n",
    "\n",
    "Loan_ID, Gender, Married, Dependents, Education, Self_Employed, Property_Area, Loan_Status are the Categorical Columns\n",
    "\n",
    "ApplicantIncome, CoapplicantIncome, LoanAmount, Loan_Amount_Term, Credit_History are the Numerical columns"
   ]
  },
  {
   "cell_type": "code",
   "execution_count": 7,
   "id": "e6a93443",
   "metadata": {},
   "outputs": [
    {
     "name": "stdout",
     "output_type": "stream",
     "text": [
      "<class 'pandas.core.frame.DataFrame'>\n",
      "RangeIndex: 614 entries, 0 to 613\n",
      "Data columns (total 13 columns):\n",
      " #   Column             Non-Null Count  Dtype  \n",
      "---  ------             --------------  -----  \n",
      " 0   Loan_ID            614 non-null    object \n",
      " 1   Gender             601 non-null    object \n",
      " 2   Married            611 non-null    object \n",
      " 3   Dependents         599 non-null    object \n",
      " 4   Education          614 non-null    object \n",
      " 5   Self_Employed      582 non-null    object \n",
      " 6   ApplicantIncome    614 non-null    int64  \n",
      " 7   CoapplicantIncome  614 non-null    float64\n",
      " 8   LoanAmount         592 non-null    float64\n",
      " 9   Loan_Amount_Term   600 non-null    float64\n",
      " 10  Credit_History     564 non-null    float64\n",
      " 11  Property_Area      614 non-null    object \n",
      " 12  Loan_Status        614 non-null    object \n",
      "dtypes: float64(4), int64(1), object(8)\n",
      "memory usage: 62.5+ KB\n"
     ]
    }
   ],
   "source": [
    "# checking the dataset at a glance\n",
    "df.info()"
   ]
  },
  {
   "cell_type": "markdown",
   "id": "a0c98822",
   "metadata": {},
   "source": [
    "We can see that there are some null values present in the database, we can further investigate using isnull operation"
   ]
  },
  {
   "cell_type": "code",
   "execution_count": 8,
   "id": "45dd6031",
   "metadata": {},
   "outputs": [
    {
     "data": {
      "text/plain": [
       "Loan_ID               0\n",
       "Gender               13\n",
       "Married               3\n",
       "Dependents           15\n",
       "Education             0\n",
       "Self_Employed        32\n",
       "ApplicantIncome       0\n",
       "CoapplicantIncome     0\n",
       "LoanAmount           22\n",
       "Loan_Amount_Term     14\n",
       "Credit_History       50\n",
       "Property_Area         0\n",
       "Loan_Status           0\n",
       "dtype: int64"
      ]
     },
     "execution_count": 8,
     "metadata": {},
     "output_type": "execute_result"
    }
   ],
   "source": [
    "df.isnull().sum()"
   ]
  },
  {
   "cell_type": "markdown",
   "id": "a2d7518a",
   "metadata": {},
   "source": [
    "1. We can see that categorical columns like gender, married, dependents, Self Employed are having null values we can impute them with mode\n",
    "2. and the Numerical columns such as Loan amount, loan amount term and credit history has null values , we can impute them with median and mean"
   ]
  },
  {
   "cell_type": "code",
   "execution_count": 9,
   "id": "41aa8703",
   "metadata": {},
   "outputs": [
    {
     "data": {
      "text/html": [
       "<div>\n",
       "<style scoped>\n",
       "    .dataframe tbody tr th:only-of-type {\n",
       "        vertical-align: middle;\n",
       "    }\n",
       "\n",
       "    .dataframe tbody tr th {\n",
       "        vertical-align: top;\n",
       "    }\n",
       "\n",
       "    .dataframe thead th {\n",
       "        text-align: right;\n",
       "    }\n",
       "</style>\n",
       "<table border=\"1\" class=\"dataframe\">\n",
       "  <thead>\n",
       "    <tr style=\"text-align: right;\">\n",
       "      <th></th>\n",
       "      <th>ApplicantIncome</th>\n",
       "      <th>CoapplicantIncome</th>\n",
       "      <th>LoanAmount</th>\n",
       "      <th>Loan_Amount_Term</th>\n",
       "      <th>Credit_History</th>\n",
       "    </tr>\n",
       "  </thead>\n",
       "  <tbody>\n",
       "    <tr>\n",
       "      <th>count</th>\n",
       "      <td>614.000000</td>\n",
       "      <td>614.000000</td>\n",
       "      <td>592.000000</td>\n",
       "      <td>600.00000</td>\n",
       "      <td>564.000000</td>\n",
       "    </tr>\n",
       "    <tr>\n",
       "      <th>mean</th>\n",
       "      <td>5403.459283</td>\n",
       "      <td>1621.245798</td>\n",
       "      <td>146.412162</td>\n",
       "      <td>342.00000</td>\n",
       "      <td>0.842199</td>\n",
       "    </tr>\n",
       "    <tr>\n",
       "      <th>std</th>\n",
       "      <td>6109.041673</td>\n",
       "      <td>2926.248369</td>\n",
       "      <td>85.587325</td>\n",
       "      <td>65.12041</td>\n",
       "      <td>0.364878</td>\n",
       "    </tr>\n",
       "    <tr>\n",
       "      <th>min</th>\n",
       "      <td>150.000000</td>\n",
       "      <td>0.000000</td>\n",
       "      <td>9.000000</td>\n",
       "      <td>12.00000</td>\n",
       "      <td>0.000000</td>\n",
       "    </tr>\n",
       "    <tr>\n",
       "      <th>25%</th>\n",
       "      <td>2877.500000</td>\n",
       "      <td>0.000000</td>\n",
       "      <td>100.000000</td>\n",
       "      <td>360.00000</td>\n",
       "      <td>1.000000</td>\n",
       "    </tr>\n",
       "    <tr>\n",
       "      <th>50%</th>\n",
       "      <td>3812.500000</td>\n",
       "      <td>1188.500000</td>\n",
       "      <td>128.000000</td>\n",
       "      <td>360.00000</td>\n",
       "      <td>1.000000</td>\n",
       "    </tr>\n",
       "    <tr>\n",
       "      <th>75%</th>\n",
       "      <td>5795.000000</td>\n",
       "      <td>2297.250000</td>\n",
       "      <td>168.000000</td>\n",
       "      <td>360.00000</td>\n",
       "      <td>1.000000</td>\n",
       "    </tr>\n",
       "    <tr>\n",
       "      <th>max</th>\n",
       "      <td>81000.000000</td>\n",
       "      <td>41667.000000</td>\n",
       "      <td>700.000000</td>\n",
       "      <td>480.00000</td>\n",
       "      <td>1.000000</td>\n",
       "    </tr>\n",
       "  </tbody>\n",
       "</table>\n",
       "</div>"
      ],
      "text/plain": [
       "       ApplicantIncome  CoapplicantIncome  LoanAmount  Loan_Amount_Term  \\\n",
       "count       614.000000         614.000000  592.000000         600.00000   \n",
       "mean       5403.459283        1621.245798  146.412162         342.00000   \n",
       "std        6109.041673        2926.248369   85.587325          65.12041   \n",
       "min         150.000000           0.000000    9.000000          12.00000   \n",
       "25%        2877.500000           0.000000  100.000000         360.00000   \n",
       "50%        3812.500000        1188.500000  128.000000         360.00000   \n",
       "75%        5795.000000        2297.250000  168.000000         360.00000   \n",
       "max       81000.000000       41667.000000  700.000000         480.00000   \n",
       "\n",
       "       Credit_History  \n",
       "count      564.000000  \n",
       "mean         0.842199  \n",
       "std          0.364878  \n",
       "min          0.000000  \n",
       "25%          1.000000  \n",
       "50%          1.000000  \n",
       "75%          1.000000  \n",
       "max          1.000000  "
      ]
     },
     "execution_count": 9,
     "metadata": {},
     "output_type": "execute_result"
    }
   ],
   "source": [
    "# Checking the describe function\n",
    "df.describe()"
   ]
  },
  {
   "cell_type": "markdown",
   "id": "b940bb57",
   "metadata": {},
   "source": [
    "Observations\n",
    "\n",
    "1. The Applicants income is right skewed as the mean is more than median\n",
    "2. Co Applicants income  is right skewed as the mean is more than median\n",
    "3. Loan amount is is right skewed as the mean is more than median\n",
    "4. Loan amount term is left skewed as mean is less than median\n",
    "5. Credit is left skewed as mean is less than median"
   ]
  },
  {
   "cell_type": "markdown",
   "id": "9d11e405",
   "metadata": {},
   "source": [
    "**EDA**"
   ]
  },
  {
   "cell_type": "code",
   "execution_count": 15,
   "id": "7734586f",
   "metadata": {
    "scrolled": false
   },
   "outputs": [
    {
     "name": "stdout",
     "output_type": "stream",
     "text": [
      "Count Plot for  Loan_ID\n",
      "LP001002    1\n",
      "LP002328    1\n",
      "LP002305    1\n",
      "LP002308    1\n",
      "LP002314    1\n",
      "           ..\n",
      "LP001692    1\n",
      "LP001693    1\n",
      "LP001698    1\n",
      "LP001699    1\n",
      "LP002990    1\n",
      "Name: Loan_ID, Length: 614, dtype: int64\n",
      "LP001002    0.001629\n",
      "LP002328    0.001629\n",
      "LP002305    0.001629\n",
      "LP002308    0.001629\n",
      "LP002314    0.001629\n",
      "              ...   \n",
      "LP001692    0.001629\n",
      "LP001693    0.001629\n",
      "LP001698    0.001629\n",
      "LP001699    0.001629\n",
      "LP002990    0.001629\n",
      "Name: Loan_ID, Length: 614, dtype: float64\n"
     ]
    },
    {
     "data": {
      "image/png": "[encoded data removed]",
      "text/plain": [
       "<Figure size 432x288 with 1 Axes>"
      ]
     },
     "metadata": {
      "needs_background": "light"
     },
     "output_type": "display_data"
    },
    {
     "name": "stdout",
     "output_type": "stream",
     "text": [
      "Count Plot for  Gender\n",
      "Male      489\n",
      "Female    112\n",
      "Name: Gender, dtype: int64\n",
      "Male      0.813644\n",
      "Female    0.186356\n",
      "Name: Gender, dtype: float64\n"
     ]
    },
    {
     "data": {
      "image/png": "[encoded data removed]",
      "text/plain": [
       "<Figure size 432x288 with 1 Axes>"
      ]
     },
     "metadata": {
      "needs_background": "light"
     },
     "output_type": "display_data"
    },
    {
     "name": "stdout",
     "output_type": "stream",
     "text": [
      "Count Plot for  Married\n",
      "Yes    398\n",
      "No     213\n",
      "Name: Married, dtype: int64\n",
      "Yes    0.651391\n",
      "No     0.348609\n",
      "Name: Married, dtype: float64\n"
     ]
    },
    {
     "data": {
      "image/png": "[encoded data removed]",
      "text/plain": [
       "<Figure size 432x288 with 1 Axes>"
      ]
     },
     "metadata": {
      "needs_background": "light"
     },
     "output_type": "display_data"
    },
    {
     "name": "stdout",
     "output_type": "stream",
     "text": [
      "Count Plot for  Dependents\n",
      "0     345\n",
      "1     102\n",
      "2     101\n",
      "3+     51\n",
      "Name: Dependents, dtype: int64\n",
      "0     0.575960\n",
      "1     0.170284\n",
      "2     0.168614\n",
      "3+    0.085142\n",
      "Name: Dependents, dtype: float64\n"
     ]
    },
    {
     "data": {
      "image/png": "[encoded data removed]",
      "text/plain": [
       "<Figure size 432x288 with 1 Axes>"
      ]
     },
     "metadata": {
      "needs_background": "light"
     },
     "output_type": "display_data"
    },
    {
     "name": "stdout",
     "output_type": "stream",
     "text": [
      "Count Plot for  Education\n",
      "Graduate        480\n",
      "Not Graduate    134\n",
      "Name: Education, dtype: int64\n",
      "Graduate        0.781759\n",
      "Not Graduate    0.218241\n",
      "Name: Education, dtype: float64\n"
     ]
    },
    {
     "data": {
      "image/png": "[encoded data removed]",
      "text/plain": [
       "<Figure size 432x288 with 1 Axes>"
      ]
     },
     "metadata": {
      "needs_background": "light"
     },
     "output_type": "display_data"
    },
    {
     "name": "stdout",
     "output_type": "stream",
     "text": [
      "Count Plot for  Self_Employed\n",
      "No     500\n",
      "Yes     82\n",
      "Name: Self_Employed, dtype: int64\n",
      "No     0.859107\n",
      "Yes    0.140893\n",
      "Name: Self_Employed, dtype: float64\n"
     ]
    },
    {
     "data": {
      "image/png": "[encoded data removed]",
      "text/plain": [
       "<Figure size 432x288 with 1 Axes>"
      ]
     },
     "metadata": {
      "needs_background": "light"
     },
     "output_type": "display_data"
    },
    {
     "name": "stdout",
     "output_type": "stream",
     "text": [
      "Count Plot for  ApplicantIncome\n",
      "Count Plot for  CoapplicantIncome\n",
      "Count Plot for  LoanAmount\n",
      "Count Plot for  Loan_Amount_Term\n",
      "Count Plot for  Credit_History\n",
      "Count Plot for  Property_Area\n",
      "Semiurban    233\n",
      "Urban        202\n",
      "Rural        179\n",
      "Name: Property_Area, dtype: int64\n",
      "Semiurban    0.379479\n",
      "Urban        0.328990\n",
      "Rural        0.291531\n",
      "Name: Property_Area, dtype: float64\n"
     ]
    },
    {
     "data": {
      "image/png": "[encoded data removed]",
      "text/plain": [
       "<Figure size 432x288 with 1 Axes>"
      ]
     },
     "metadata": {
      "needs_background": "light"
     },
     "output_type": "display_data"
    },
    {
     "name": "stdout",
     "output_type": "stream",
     "text": [
      "Count Plot for  Loan_Status\n",
      "Y    422\n",
      "N    192\n",
      "Name: Loan_Status, dtype: int64\n",
      "Y    0.687296\n",
      "N    0.312704\n",
      "Name: Loan_Status, dtype: float64\n"
     ]
    },
    {
     "data": {
      "image/png": "[encoded data removed]",
      "text/plain": [
       "<Figure size 432x288 with 1 Axes>"
      ]
     },
     "metadata": {
      "needs_background": "light"
     },
     "output_type": "display_data"
    }
   ],
   "source": [
    "#Count Plot for categorical data\n",
    "for i in df.columns:\n",
    "    print('Count Plot for ', i)\n",
    "    if df[i].dtypes=='object':\n",
    "        sns.countplot(x=df[i], hue=df['Loan_Status'])\n",
    "        print(df[i].value_counts())\n",
    "        print(df[i].value_counts(normalize=True))\n",
    "        plt.show()\n",
    "        \n",
    "        "
   ]
  },
  {
   "cell_type": "markdown",
   "id": "e042312f",
   "metadata": {},
   "source": [
    "**Observation**\n",
    "1. Out of 81% male applicants nearly 3/4th have Approved status for loan\n",
    "2. Out of 65% married people nearly 75% have approved status\n",
    "3. Around 57% people does not have any dependents and have higher % of approval status\n",
    "4. Around 78% of people are having graduation and have approval status\n",
    "5. 14% are self employed and half of them have approved status\n",
    "6. Semiurban (naerly 37%) have higher status of approval of loan compared to urban and rural\n"
   ]
  },
  {
   "cell_type": "code",
   "execution_count": 17,
   "id": "9ba794e8",
   "metadata": {},
   "outputs": [
    {
     "name": "stdout",
     "output_type": "stream",
     "text": [
      "Distribution Plot for  Loan_ID\n",
      "Distribution Plot for  Gender\n",
      "Distribution Plot for  Married\n",
      "Distribution Plot for  Dependents\n",
      "Distribution Plot for  Education\n",
      "Distribution Plot for  Self_Employed\n",
      "Distribution Plot for  ApplicantIncome\n"
     ]
    },
    {
     "data": {
      "image/png": "[encoded data removed]",
      "text/plain": [
       "<Figure size 432x288 with 1 Axes>"
      ]
     },
     "metadata": {
      "needs_background": "light"
     },
     "output_type": "display_data"
    },
    {
     "name": "stdout",
     "output_type": "stream",
     "text": [
      "Distribution Plot for  CoapplicantIncome\n"
     ]
    },
    {
     "data": {
      "image/png": "[encoded data removed]",
      "text/plain": [
       "<Figure size 432x288 with 1 Axes>"
      ]
     },
     "metadata": {
      "needs_background": "light"
     },
     "output_type": "display_data"
    },
    {
     "name": "stdout",
     "output_type": "stream",
     "text": [
      "Distribution Plot for  LoanAmount\n"
     ]
    },
    {
     "data": {
      "image/png": "[encoded data removed]",
      "text/plain": [
       "<Figure size 432x288 with 1 Axes>"
      ]
     },
     "metadata": {
      "needs_background": "light"
     },
     "output_type": "display_data"
    },
    {
     "name": "stdout",
     "output_type": "stream",
     "text": [
      "Distribution Plot for  Loan_Amount_Term\n"
     ]
    },
    {
     "data": {
      "image/png": "[encoded data removed]",
      "text/plain": [
       "<Figure size 432x288 with 1 Axes>"
      ]
     },
     "metadata": {
      "needs_background": "light"
     },
     "output_type": "display_data"
    },
    {
     "name": "stdout",
     "output_type": "stream",
     "text": [
      "Distribution Plot for  Credit_History\n"
     ]
    },
    {
     "data": {
      "image/png": "[encoded data removed]",
      "text/plain": [
       "<Figure size 432x288 with 1 Axes>"
      ]
     },
     "metadata": {
      "needs_background": "light"
     },
     "output_type": "display_data"
    },
    {
     "name": "stdout",
     "output_type": "stream",
     "text": [
      "Distribution Plot for  Property_Area\n",
      "Distribution Plot for  Loan_Status\n"
     ]
    }
   ],
   "source": [
    "#Ploting Dist plot for the Numerical columns\n",
    "for i in df.columns:\n",
    "    print('Distribution Plot for ', i)\n",
    "    if df[i].dtypes!='object':\n",
    "        sns.distplot(x=df[i],kde=True)\n",
    "        plt.show()"
   ]
  },
  {
   "cell_type": "markdown",
   "id": "84d13658",
   "metadata": {},
   "source": [
    "**Observations**\n",
    "\n",
    "1. ApplicantIncome is right skewed\n",
    "2. CoapplicantIncome is also right skewed\n",
    "3. LoanAmount is also a right skewed\n",
    "4. **Loan_Amount_Term is only having 4 unique values and have to fill with mode for null values**\n",
    "5. Credit_History shows that most (nearly 85%) of the applicants have repayed their debts it is also can be fill with mode for null values\n"
   ]
  },
  {
   "cell_type": "code",
   "execution_count": 21,
   "id": "e1304ccf",
   "metadata": {},
   "outputs": [
    {
     "data": {
      "text/plain": [
       "<AxesSubplot:>"
      ]
     },
     "execution_count": 21,
     "metadata": {},
     "output_type": "execute_result"
    },
    {
     "data": {
      "image/png": "[encoded data removed]",
      "text/plain": [
       "<Figure size 1080x360 with 1 Axes>"
      ]
     },
     "metadata": {
      "needs_background": "light"
     },
     "output_type": "display_data"
    }
   ],
   "source": [
    "# Checking for Outliers\n",
    "plt.figure(figsize=(15,5))\n",
    "sns.boxplot(data=df)"
   ]
  },
  {
   "cell_type": "markdown",
   "id": "06f0dc43",
   "metadata": {},
   "source": [
    "As we can see that the Applicants income and co-applicants income have some outliers present we can treat them later"
   ]
  },
  {
   "cell_type": "markdown",
   "id": "49302688",
   "metadata": {},
   "source": [
    "**Before plotting the correlation matrix we have to impute the null values and code the categorical data** "
   ]
  },
  {
   "cell_type": "code",
   "execution_count": 58,
   "id": "54266455",
   "metadata": {},
   "outputs": [],
   "source": [
    "# Imputing Null values\n",
    "# Imputing gender, married, dependents and self employed can be fill with mode of that same columns\n",
    "df['Gender']=df['Gender'].fillna(df['Gender'].mode()[0])\n",
    "df['Married']=df['Married'].fillna(df['Married'].mode()[0])\n",
    "df['Dependents']=df['Dependents'].fillna(df['Dependents'].mode()[0])\n",
    "df['Self_Employed']=df['Self_Employed'].fillna(df['Self_Employed'].mode()[0])\n",
    "\n",
    "# Imputing Credit_History and Loan_Amount_Term with mode only as discussed earlier\n",
    "df['Credit_History']=df['Credit_History'].fillna(df['Credit_History'].mode()[0])\n",
    "df['Loan_Amount_Term']=df['Loan_Amount_Term'].fillna(df['Loan_Amount_Term'].mode()[0])\n",
    "\n",
    "#Filling the LoanAmount with Median as it contains more points which can be trated as outliers\n",
    "df['LoanAmount']=df['LoanAmount'].fillna(df['LoanAmount'].median())\n"
   ]
  },
  {
   "cell_type": "code",
   "execution_count": 59,
   "id": "49a1bc92",
   "metadata": {},
   "outputs": [
    {
     "data": {
      "text/plain": [
       "Loan_ID              0\n",
       "Gender               0\n",
       "Married              0\n",
       "Dependents           0\n",
       "Education            0\n",
       "Self_Employed        0\n",
       "ApplicantIncome      0\n",
       "CoapplicantIncome    0\n",
       "LoanAmount           0\n",
       "Loan_Amount_Term     0\n",
       "Credit_History       0\n",
       "Property_Area        0\n",
       "Loan_Status          0\n",
       "dtype: int64"
      ]
     },
     "execution_count": 59,
     "metadata": {},
     "output_type": "execute_result"
    }
   ],
   "source": [
    "#Checking again for the Null values\n",
    "df.isnull().sum()"
   ]
  },
  {
   "cell_type": "code",
   "execution_count": 60,
   "id": "aace2809",
   "metadata": {},
   "outputs": [
    {
     "data": {
      "text/html": [
       "<div>\n",
       "<style scoped>\n",
       "    .dataframe tbody tr th:only-of-type {\n",
       "        vertical-align: middle;\n",
       "    }\n",
       "\n",
       "    .dataframe tbody tr th {\n",
       "        vertical-align: top;\n",
       "    }\n",
       "\n",
       "    .dataframe thead th {\n",
       "        text-align: right;\n",
       "    }\n",
       "</style>\n",
       "<table border=\"1\" class=\"dataframe\">\n",
       "  <thead>\n",
       "    <tr style=\"text-align: right;\">\n",
       "      <th></th>\n",
       "      <th>Loan_ID</th>\n",
       "      <th>Gender</th>\n",
       "      <th>Married</th>\n",
       "      <th>Dependents</th>\n",
       "      <th>Education</th>\n",
       "      <th>Self_Employed</th>\n",
       "      <th>ApplicantIncome</th>\n",
       "      <th>CoapplicantIncome</th>\n",
       "      <th>LoanAmount</th>\n",
       "      <th>Loan_Amount_Term</th>\n",
       "      <th>Credit_History</th>\n",
       "      <th>Property_Area</th>\n",
       "      <th>Loan_Status</th>\n",
       "    </tr>\n",
       "  </thead>\n",
       "  <tbody>\n",
       "    <tr>\n",
       "      <th>0</th>\n",
       "      <td>0</td>\n",
       "      <td>1</td>\n",
       "      <td>0</td>\n",
       "      <td>0</td>\n",
       "      <td>0</td>\n",
       "      <td>0</td>\n",
       "      <td>5849</td>\n",
       "      <td>0.0</td>\n",
       "      <td>128.0</td>\n",
       "      <td>360.0</td>\n",
       "      <td>1.0</td>\n",
       "      <td>2</td>\n",
       "      <td>1</td>\n",
       "    </tr>\n",
       "    <tr>\n",
       "      <th>1</th>\n",
       "      <td>1</td>\n",
       "      <td>1</td>\n",
       "      <td>1</td>\n",
       "      <td>1</td>\n",
       "      <td>0</td>\n",
       "      <td>0</td>\n",
       "      <td>4583</td>\n",
       "      <td>1508.0</td>\n",
       "      <td>128.0</td>\n",
       "      <td>360.0</td>\n",
       "      <td>1.0</td>\n",
       "      <td>0</td>\n",
       "      <td>0</td>\n",
       "    </tr>\n",
       "    <tr>\n",
       "      <th>2</th>\n",
       "      <td>2</td>\n",
       "      <td>1</td>\n",
       "      <td>1</td>\n",
       "      <td>0</td>\n",
       "      <td>0</td>\n",
       "      <td>1</td>\n",
       "      <td>3000</td>\n",
       "      <td>0.0</td>\n",
       "      <td>66.0</td>\n",
       "      <td>360.0</td>\n",
       "      <td>1.0</td>\n",
       "      <td>2</td>\n",
       "      <td>1</td>\n",
       "    </tr>\n",
       "    <tr>\n",
       "      <th>3</th>\n",
       "      <td>3</td>\n",
       "      <td>1</td>\n",
       "      <td>1</td>\n",
       "      <td>0</td>\n",
       "      <td>1</td>\n",
       "      <td>0</td>\n",
       "      <td>2583</td>\n",
       "      <td>2358.0</td>\n",
       "      <td>120.0</td>\n",
       "      <td>360.0</td>\n",
       "      <td>1.0</td>\n",
       "      <td>2</td>\n",
       "      <td>1</td>\n",
       "    </tr>\n",
       "    <tr>\n",
       "      <th>4</th>\n",
       "      <td>4</td>\n",
       "      <td>1</td>\n",
       "      <td>0</td>\n",
       "      <td>0</td>\n",
       "      <td>0</td>\n",
       "      <td>0</td>\n",
       "      <td>6000</td>\n",
       "      <td>0.0</td>\n",
       "      <td>141.0</td>\n",
       "      <td>360.0</td>\n",
       "      <td>1.0</td>\n",
       "      <td>2</td>\n",
       "      <td>1</td>\n",
       "    </tr>\n",
       "    <tr>\n",
       "      <th>...</th>\n",
       "      <td>...</td>\n",
       "      <td>...</td>\n",
       "      <td>...</td>\n",
       "      <td>...</td>\n",
       "      <td>...</td>\n",
       "      <td>...</td>\n",
       "      <td>...</td>\n",
       "      <td>...</td>\n",
       "      <td>...</td>\n",
       "      <td>...</td>\n",
       "      <td>...</td>\n",
       "      <td>...</td>\n",
       "      <td>...</td>\n",
       "    </tr>\n",
       "    <tr>\n",
       "      <th>609</th>\n",
       "      <td>609</td>\n",
       "      <td>0</td>\n",
       "      <td>0</td>\n",
       "      <td>0</td>\n",
       "      <td>0</td>\n",
       "      <td>0</td>\n",
       "      <td>2900</td>\n",
       "      <td>0.0</td>\n",
       "      <td>71.0</td>\n",
       "      <td>360.0</td>\n",
       "      <td>1.0</td>\n",
       "      <td>0</td>\n",
       "      <td>1</td>\n",
       "    </tr>\n",
       "    <tr>\n",
       "      <th>610</th>\n",
       "      <td>610</td>\n",
       "      <td>1</td>\n",
       "      <td>1</td>\n",
       "      <td>3</td>\n",
       "      <td>0</td>\n",
       "      <td>0</td>\n",
       "      <td>4106</td>\n",
       "      <td>0.0</td>\n",
       "      <td>40.0</td>\n",
       "      <td>180.0</td>\n",
       "      <td>1.0</td>\n",
       "      <td>0</td>\n",
       "      <td>1</td>\n",
       "    </tr>\n",
       "    <tr>\n",
       "      <th>611</th>\n",
       "      <td>611</td>\n",
       "      <td>1</td>\n",
       "      <td>1</td>\n",
       "      <td>1</td>\n",
       "      <td>0</td>\n",
       "      <td>0</td>\n",
       "      <td>8072</td>\n",
       "      <td>240.0</td>\n",
       "      <td>253.0</td>\n",
       "      <td>360.0</td>\n",
       "      <td>1.0</td>\n",
       "      <td>2</td>\n",
       "      <td>1</td>\n",
       "    </tr>\n",
       "    <tr>\n",
       "      <th>612</th>\n",
       "      <td>612</td>\n",
       "      <td>1</td>\n",
       "      <td>1</td>\n",
       "      <td>2</td>\n",
       "      <td>0</td>\n",
       "      <td>0</td>\n",
       "      <td>7583</td>\n",
       "      <td>0.0</td>\n",
       "      <td>187.0</td>\n",
       "      <td>360.0</td>\n",
       "      <td>1.0</td>\n",
       "      <td>2</td>\n",
       "      <td>1</td>\n",
       "    </tr>\n",
       "    <tr>\n",
       "      <th>613</th>\n",
       "      <td>613</td>\n",
       "      <td>0</td>\n",
       "      <td>0</td>\n",
       "      <td>0</td>\n",
       "      <td>0</td>\n",
       "      <td>1</td>\n",
       "      <td>4583</td>\n",
       "      <td>0.0</td>\n",
       "      <td>133.0</td>\n",
       "      <td>360.0</td>\n",
       "      <td>0.0</td>\n",
       "      <td>1</td>\n",
       "      <td>0</td>\n",
       "    </tr>\n",
       "  </tbody>\n",
       "</table>\n",
       "<p>614 rows × 13 columns</p>\n",
       "</div>"
      ],
      "text/plain": [
       "     Loan_ID  Gender  Married  Dependents  Education  Self_Employed  \\\n",
       "0          0       1        0           0          0              0   \n",
       "1          1       1        1           1          0              0   \n",
       "2          2       1        1           0          0              1   \n",
       "3          3       1        1           0          1              0   \n",
       "4          4       1        0           0          0              0   \n",
       "..       ...     ...      ...         ...        ...            ...   \n",
       "609      609       0        0           0          0              0   \n",
       "610      610       1        1           3          0              0   \n",
       "611      611       1        1           1          0              0   \n",
       "612      612       1        1           2          0              0   \n",
       "613      613       0        0           0          0              1   \n",
       "\n",
       "     ApplicantIncome  CoapplicantIncome  LoanAmount  Loan_Amount_Term  \\\n",
       "0               5849                0.0       128.0             360.0   \n",
       "1               4583             1508.0       128.0             360.0   \n",
       "2               3000                0.0        66.0             360.0   \n",
       "3               2583             2358.0       120.0             360.0   \n",
       "4               6000                0.0       141.0             360.0   \n",
       "..               ...                ...         ...               ...   \n",
       "609             2900                0.0        71.0             360.0   \n",
       "610             4106                0.0        40.0             180.0   \n",
       "611             8072              240.0       253.0             360.0   \n",
       "612             7583                0.0       187.0             360.0   \n",
       "613             4583                0.0       133.0             360.0   \n",
       "\n",
       "     Credit_History  Property_Area  Loan_Status  \n",
       "0               1.0              2            1  \n",
       "1               1.0              0            0  \n",
       "2               1.0              2            1  \n",
       "3               1.0              2            1  \n",
       "4               1.0              2            1  \n",
       "..              ...            ...          ...  \n",
       "609             1.0              0            1  \n",
       "610             1.0              0            1  \n",
       "611             1.0              2            1  \n",
       "612             1.0              2            1  \n",
       "613             0.0              1            0  \n",
       "\n",
       "[614 rows x 13 columns]"
      ]
     },
     "execution_count": 60,
     "metadata": {},
     "output_type": "execute_result"
    }
   ],
   "source": [
    "# Using label Encoder for coding the Object type of columns\n",
    "# Importing Label Encoder\n",
    "from sklearn.preprocessing import LabelEncoder\n",
    "le=LabelEncoder()\n",
    "for i in df.columns:\n",
    "    if df[i].dtypes=='object':\n",
    "        df[i] = le.fit_transform(df[i])\n",
    "df\n",
    "        "
   ]
  },
  {
   "cell_type": "code",
   "execution_count": 61,
   "id": "0107854c",
   "metadata": {},
   "outputs": [
    {
     "data": {
      "text/html": [
       "<div>\n",
       "<style scoped>\n",
       "    .dataframe tbody tr th:only-of-type {\n",
       "        vertical-align: middle;\n",
       "    }\n",
       "\n",
       "    .dataframe tbody tr th {\n",
       "        vertical-align: top;\n",
       "    }\n",
       "\n",
       "    .dataframe thead th {\n",
       "        text-align: right;\n",
       "    }\n",
       "</style>\n",
       "<table border=\"1\" class=\"dataframe\">\n",
       "  <thead>\n",
       "    <tr style=\"text-align: right;\">\n",
       "      <th></th>\n",
       "      <th>Loan_ID</th>\n",
       "      <th>Gender</th>\n",
       "      <th>Married</th>\n",
       "      <th>Dependents</th>\n",
       "      <th>Education</th>\n",
       "      <th>Self_Employed</th>\n",
       "      <th>ApplicantIncome</th>\n",
       "      <th>CoapplicantIncome</th>\n",
       "      <th>LoanAmount</th>\n",
       "      <th>Loan_Amount_Term</th>\n",
       "      <th>Credit_History</th>\n",
       "      <th>Property_Area</th>\n",
       "      <th>Loan_Status</th>\n",
       "    </tr>\n",
       "  </thead>\n",
       "  <tbody>\n",
       "    <tr>\n",
       "      <th>Loan_ID</th>\n",
       "      <td>1.000000</td>\n",
       "      <td>-0.028029</td>\n",
       "      <td>-0.016013</td>\n",
       "      <td>0.051559</td>\n",
       "      <td>0.039442</td>\n",
       "      <td>0.032874</td>\n",
       "      <td>0.016925</td>\n",
       "      <td>0.039211</td>\n",
       "      <td>0.036872</td>\n",
       "      <td>-0.033028</td>\n",
       "      <td>-0.030603</td>\n",
       "      <td>-0.155416</td>\n",
       "      <td>0.011773</td>\n",
       "    </tr>\n",
       "    <tr>\n",
       "      <th>Gender</th>\n",
       "      <td>-0.028029</td>\n",
       "      <td>1.000000</td>\n",
       "      <td>0.364569</td>\n",
       "      <td>0.172914</td>\n",
       "      <td>0.045364</td>\n",
       "      <td>-0.000525</td>\n",
       "      <td>0.058809</td>\n",
       "      <td>0.082912</td>\n",
       "      <td>0.106904</td>\n",
       "      <td>-0.074030</td>\n",
       "      <td>0.009170</td>\n",
       "      <td>-0.025752</td>\n",
       "      <td>0.017987</td>\n",
       "    </tr>\n",
       "    <tr>\n",
       "      <th>Married</th>\n",
       "      <td>-0.016013</td>\n",
       "      <td>0.364569</td>\n",
       "      <td>1.000000</td>\n",
       "      <td>0.334216</td>\n",
       "      <td>0.012304</td>\n",
       "      <td>0.004489</td>\n",
       "      <td>0.051708</td>\n",
       "      <td>0.075948</td>\n",
       "      <td>0.146546</td>\n",
       "      <td>-0.100912</td>\n",
       "      <td>0.010938</td>\n",
       "      <td>0.004257</td>\n",
       "      <td>0.091478</td>\n",
       "    </tr>\n",
       "    <tr>\n",
       "      <th>Dependents</th>\n",
       "      <td>0.051559</td>\n",
       "      <td>0.172914</td>\n",
       "      <td>0.334216</td>\n",
       "      <td>1.000000</td>\n",
       "      <td>0.055752</td>\n",
       "      <td>0.056798</td>\n",
       "      <td>0.118202</td>\n",
       "      <td>0.030430</td>\n",
       "      <td>0.163103</td>\n",
       "      <td>-0.103864</td>\n",
       "      <td>-0.040160</td>\n",
       "      <td>-0.000244</td>\n",
       "      <td>0.010118</td>\n",
       "    </tr>\n",
       "    <tr>\n",
       "      <th>Education</th>\n",
       "      <td>0.039442</td>\n",
       "      <td>0.045364</td>\n",
       "      <td>0.012304</td>\n",
       "      <td>0.055752</td>\n",
       "      <td>1.000000</td>\n",
       "      <td>-0.010383</td>\n",
       "      <td>-0.140760</td>\n",
       "      <td>-0.062290</td>\n",
       "      <td>-0.168759</td>\n",
       "      <td>-0.073928</td>\n",
       "      <td>-0.073658</td>\n",
       "      <td>-0.065243</td>\n",
       "      <td>-0.085884</td>\n",
       "    </tr>\n",
       "    <tr>\n",
       "      <th>Self_Employed</th>\n",
       "      <td>0.032874</td>\n",
       "      <td>-0.000525</td>\n",
       "      <td>0.004489</td>\n",
       "      <td>0.056798</td>\n",
       "      <td>-0.010383</td>\n",
       "      <td>1.000000</td>\n",
       "      <td>0.127180</td>\n",
       "      <td>-0.016100</td>\n",
       "      <td>0.115100</td>\n",
       "      <td>-0.033739</td>\n",
       "      <td>-0.001550</td>\n",
       "      <td>-0.030860</td>\n",
       "      <td>-0.003700</td>\n",
       "    </tr>\n",
       "    <tr>\n",
       "      <th>ApplicantIncome</th>\n",
       "      <td>0.016925</td>\n",
       "      <td>0.058809</td>\n",
       "      <td>0.051708</td>\n",
       "      <td>0.118202</td>\n",
       "      <td>-0.140760</td>\n",
       "      <td>0.127180</td>\n",
       "      <td>1.000000</td>\n",
       "      <td>-0.116605</td>\n",
       "      <td>0.565181</td>\n",
       "      <td>-0.046531</td>\n",
       "      <td>-0.018615</td>\n",
       "      <td>-0.009500</td>\n",
       "      <td>-0.004710</td>\n",
       "    </tr>\n",
       "    <tr>\n",
       "      <th>CoapplicantIncome</th>\n",
       "      <td>0.039211</td>\n",
       "      <td>0.082912</td>\n",
       "      <td>0.075948</td>\n",
       "      <td>0.030430</td>\n",
       "      <td>-0.062290</td>\n",
       "      <td>-0.016100</td>\n",
       "      <td>-0.116605</td>\n",
       "      <td>1.000000</td>\n",
       "      <td>0.189218</td>\n",
       "      <td>-0.059383</td>\n",
       "      <td>0.011134</td>\n",
       "      <td>0.010522</td>\n",
       "      <td>-0.059187</td>\n",
       "    </tr>\n",
       "    <tr>\n",
       "      <th>LoanAmount</th>\n",
       "      <td>0.036872</td>\n",
       "      <td>0.106904</td>\n",
       "      <td>0.146546</td>\n",
       "      <td>0.163103</td>\n",
       "      <td>-0.168759</td>\n",
       "      <td>0.115100</td>\n",
       "      <td>0.565181</td>\n",
       "      <td>0.189218</td>\n",
       "      <td>1.000000</td>\n",
       "      <td>0.036960</td>\n",
       "      <td>-0.000607</td>\n",
       "      <td>-0.046632</td>\n",
       "      <td>-0.033214</td>\n",
       "    </tr>\n",
       "    <tr>\n",
       "      <th>Loan_Amount_Term</th>\n",
       "      <td>-0.033028</td>\n",
       "      <td>-0.074030</td>\n",
       "      <td>-0.100912</td>\n",
       "      <td>-0.103864</td>\n",
       "      <td>-0.073928</td>\n",
       "      <td>-0.033739</td>\n",
       "      <td>-0.046531</td>\n",
       "      <td>-0.059383</td>\n",
       "      <td>0.036960</td>\n",
       "      <td>1.000000</td>\n",
       "      <td>-0.004705</td>\n",
       "      <td>-0.076120</td>\n",
       "      <td>-0.022549</td>\n",
       "    </tr>\n",
       "    <tr>\n",
       "      <th>Credit_History</th>\n",
       "      <td>-0.030603</td>\n",
       "      <td>0.009170</td>\n",
       "      <td>0.010938</td>\n",
       "      <td>-0.040160</td>\n",
       "      <td>-0.073658</td>\n",
       "      <td>-0.001550</td>\n",
       "      <td>-0.018615</td>\n",
       "      <td>0.011134</td>\n",
       "      <td>-0.000607</td>\n",
       "      <td>-0.004705</td>\n",
       "      <td>1.000000</td>\n",
       "      <td>0.001963</td>\n",
       "      <td>0.540556</td>\n",
       "    </tr>\n",
       "    <tr>\n",
       "      <th>Property_Area</th>\n",
       "      <td>-0.155416</td>\n",
       "      <td>-0.025752</td>\n",
       "      <td>0.004257</td>\n",
       "      <td>-0.000244</td>\n",
       "      <td>-0.065243</td>\n",
       "      <td>-0.030860</td>\n",
       "      <td>-0.009500</td>\n",
       "      <td>0.010522</td>\n",
       "      <td>-0.046632</td>\n",
       "      <td>-0.076120</td>\n",
       "      <td>0.001963</td>\n",
       "      <td>1.000000</td>\n",
       "      <td>0.032112</td>\n",
       "    </tr>\n",
       "    <tr>\n",
       "      <th>Loan_Status</th>\n",
       "      <td>0.011773</td>\n",
       "      <td>0.017987</td>\n",
       "      <td>0.091478</td>\n",
       "      <td>0.010118</td>\n",
       "      <td>-0.085884</td>\n",
       "      <td>-0.003700</td>\n",
       "      <td>-0.004710</td>\n",
       "      <td>-0.059187</td>\n",
       "      <td>-0.033214</td>\n",
       "      <td>-0.022549</td>\n",
       "      <td>0.540556</td>\n",
       "      <td>0.032112</td>\n",
       "      <td>1.000000</td>\n",
       "    </tr>\n",
       "  </tbody>\n",
       "</table>\n",
       "</div>"
      ],
      "text/plain": [
       "                    Loan_ID    Gender   Married  Dependents  Education  \\\n",
       "Loan_ID            1.000000 -0.028029 -0.016013    0.051559   0.039442   \n",
       "Gender            -0.028029  1.000000  0.364569    0.172914   0.045364   \n",
       "Married           -0.016013  0.364569  1.000000    0.334216   0.012304   \n",
       "Dependents         0.051559  0.172914  0.334216    1.000000   0.055752   \n",
       "Education          0.039442  0.045364  0.012304    0.055752   1.000000   \n",
       "Self_Employed      0.032874 -0.000525  0.004489    0.056798  -0.010383   \n",
       "ApplicantIncome    0.016925  0.058809  0.051708    0.118202  -0.140760   \n",
       "CoapplicantIncome  0.039211  0.082912  0.075948    0.030430  -0.062290   \n",
       "LoanAmount         0.036872  0.106904  0.146546    0.163103  -0.168759   \n",
       "Loan_Amount_Term  -0.033028 -0.074030 -0.100912   -0.103864  -0.073928   \n",
       "Credit_History    -0.030603  0.009170  0.010938   -0.040160  -0.073658   \n",
       "Property_Area     -0.155416 -0.025752  0.004257   -0.000244  -0.065243   \n",
       "Loan_Status        0.011773  0.017987  0.091478    0.010118  -0.085884   \n",
       "\n",
       "                   Self_Employed  ApplicantIncome  CoapplicantIncome  \\\n",
       "Loan_ID                 0.032874         0.016925           0.039211   \n",
       "Gender                 -0.000525         0.058809           0.082912   \n",
       "Married                 0.004489         0.051708           0.075948   \n",
       "Dependents              0.056798         0.118202           0.030430   \n",
       "Education              -0.010383        -0.140760          -0.062290   \n",
       "Self_Employed           1.000000         0.127180          -0.016100   \n",
       "ApplicantIncome         0.127180         1.000000          -0.116605   \n",
       "CoapplicantIncome      -0.016100        -0.116605           1.000000   \n",
       "LoanAmount              0.115100         0.565181           0.189218   \n",
       "Loan_Amount_Term       -0.033739        -0.046531          -0.059383   \n",
       "Credit_History         -0.001550        -0.018615           0.011134   \n",
       "Property_Area          -0.030860        -0.009500           0.010522   \n",
       "Loan_Status            -0.003700        -0.004710          -0.059187   \n",
       "\n",
       "                   LoanAmount  Loan_Amount_Term  Credit_History  \\\n",
       "Loan_ID              0.036872         -0.033028       -0.030603   \n",
       "Gender               0.106904         -0.074030        0.009170   \n",
       "Married              0.146546         -0.100912        0.010938   \n",
       "Dependents           0.163103         -0.103864       -0.040160   \n",
       "Education           -0.168759         -0.073928       -0.073658   \n",
       "Self_Employed        0.115100         -0.033739       -0.001550   \n",
       "ApplicantIncome      0.565181         -0.046531       -0.018615   \n",
       "CoapplicantIncome    0.189218         -0.059383        0.011134   \n",
       "LoanAmount           1.000000          0.036960       -0.000607   \n",
       "Loan_Amount_Term     0.036960          1.000000       -0.004705   \n",
       "Credit_History      -0.000607         -0.004705        1.000000   \n",
       "Property_Area       -0.046632         -0.076120        0.001963   \n",
       "Loan_Status         -0.033214         -0.022549        0.540556   \n",
       "\n",
       "                   Property_Area  Loan_Status  \n",
       "Loan_ID                -0.155416     0.011773  \n",
       "Gender                 -0.025752     0.017987  \n",
       "Married                 0.004257     0.091478  \n",
       "Dependents             -0.000244     0.010118  \n",
       "Education              -0.065243    -0.085884  \n",
       "Self_Employed          -0.030860    -0.003700  \n",
       "ApplicantIncome        -0.009500    -0.004710  \n",
       "CoapplicantIncome       0.010522    -0.059187  \n",
       "LoanAmount             -0.046632    -0.033214  \n",
       "Loan_Amount_Term       -0.076120    -0.022549  \n",
       "Credit_History          0.001963     0.540556  \n",
       "Property_Area           1.000000     0.032112  \n",
       "Loan_Status             0.032112     1.000000  "
      ]
     },
     "execution_count": 61,
     "metadata": {},
     "output_type": "execute_result"
    }
   ],
   "source": [
    "# Plotting the correlation bet the data\n",
    "corr_mat=df.corr()\n",
    "corr_mat"
   ]
  },
  {
   "cell_type": "code",
   "execution_count": 62,
   "id": "70f3efc5",
   "metadata": {},
   "outputs": [
    {
     "data": {
      "text/plain": [
       "<AxesSubplot:>"
      ]
     },
     "execution_count": 62,
     "metadata": {},
     "output_type": "execute_result"
    },
    {
     "data": {
      "image/png": "[encoded data removed]",
      "text/plain": [
       "<Figure size 864x576 with 2 Axes>"
      ]
     },
     "metadata": {
      "needs_background": "light"
     },
     "output_type": "display_data"
    }
   ],
   "source": [
    "# Plotting the Heat map for better understanding\n",
    "plt.figure(figsize=(12,8))\n",
    "sns.heatmap(corr_mat, annot=True)"
   ]
  },
  {
   "cell_type": "code",
   "execution_count": 63,
   "id": "893a8a4e",
   "metadata": {},
   "outputs": [
    {
     "data": {
      "text/plain": [
       "Loan_Status          1.000000\n",
       "Credit_History       0.540556\n",
       "Married              0.091478\n",
       "Property_Area        0.032112\n",
       "Gender               0.017987\n",
       "Loan_ID              0.011773\n",
       "Dependents           0.010118\n",
       "Self_Employed       -0.003700\n",
       "ApplicantIncome     -0.004710\n",
       "Loan_Amount_Term    -0.022549\n",
       "LoanAmount          -0.033214\n",
       "CoapplicantIncome   -0.059187\n",
       "Education           -0.085884\n",
       "Name: Loan_Status, dtype: float64"
      ]
     },
     "execution_count": 63,
     "metadata": {},
     "output_type": "execute_result"
    }
   ],
   "source": [
    "# Ckecking Correlation with the Loan Status\n",
    "corr_mat['Loan_Status'].sort_values(ascending=False)"
   ]
  },
  {
   "cell_type": "markdown",
   "id": "3a6fef52",
   "metadata": {},
   "source": [
    "1. As we can see that credit history is highly (positively) correlated with the Loan status\n",
    "2. married column is 9% correlated with the loan status"
   ]
  },
  {
   "cell_type": "code",
   "execution_count": 64,
   "id": "8bdc3353",
   "metadata": {},
   "outputs": [
    {
     "data": {
      "text/plain": [
       "Loan_ID              0.000000\n",
       "Gender              -1.648795\n",
       "Married             -0.644850\n",
       "Dependents           1.015551\n",
       "Education            1.367622\n",
       "Self_Employed        2.159796\n",
       "ApplicantIncome      6.539513\n",
       "CoapplicantIncome    7.491531\n",
       "LoanAmount           2.743053\n",
       "Loan_Amount_Term    -2.402112\n",
       "Credit_History      -2.021971\n",
       "Property_Area       -0.066196\n",
       "Loan_Status         -0.809998\n",
       "dtype: float64"
      ]
     },
     "execution_count": 64,
     "metadata": {},
     "output_type": "execute_result"
    }
   ],
   "source": [
    "# Checking the skeweness of the data\n",
    "df.skew()"
   ]
  },
  {
   "cell_type": "markdown",
   "id": "2d78ad7d",
   "metadata": {},
   "source": [
    "As we can see that the skewness from the continuous data columns has to be removed "
   ]
  },
  {
   "cell_type": "markdown",
   "id": "b7562258",
   "metadata": {},
   "source": [
    "# Preprocessing data"
   ]
  },
  {
   "cell_type": "code",
   "execution_count": 65,
   "id": "6f78df5f",
   "metadata": {},
   "outputs": [
    {
     "data": {
      "text/html": [
       "<div>\n",
       "<style scoped>\n",
       "    .dataframe tbody tr th:only-of-type {\n",
       "        vertical-align: middle;\n",
       "    }\n",
       "\n",
       "    .dataframe tbody tr th {\n",
       "        vertical-align: top;\n",
       "    }\n",
       "\n",
       "    .dataframe thead th {\n",
       "        text-align: right;\n",
       "    }\n",
       "</style>\n",
       "<table border=\"1\" class=\"dataframe\">\n",
       "  <thead>\n",
       "    <tr style=\"text-align: right;\">\n",
       "      <th></th>\n",
       "      <th>Gender</th>\n",
       "      <th>Married</th>\n",
       "      <th>Dependents</th>\n",
       "      <th>Education</th>\n",
       "      <th>Self_Employed</th>\n",
       "      <th>ApplicantIncome</th>\n",
       "      <th>CoapplicantIncome</th>\n",
       "      <th>LoanAmount</th>\n",
       "      <th>Loan_Amount_Term</th>\n",
       "      <th>Credit_History</th>\n",
       "      <th>Property_Area</th>\n",
       "      <th>Loan_Status</th>\n",
       "    </tr>\n",
       "  </thead>\n",
       "  <tbody>\n",
       "    <tr>\n",
       "      <th>0</th>\n",
       "      <td>1</td>\n",
       "      <td>0</td>\n",
       "      <td>0</td>\n",
       "      <td>0</td>\n",
       "      <td>0</td>\n",
       "      <td>5849</td>\n",
       "      <td>0.0</td>\n",
       "      <td>128.0</td>\n",
       "      <td>360.0</td>\n",
       "      <td>1.0</td>\n",
       "      <td>2</td>\n",
       "      <td>1</td>\n",
       "    </tr>\n",
       "    <tr>\n",
       "      <th>1</th>\n",
       "      <td>1</td>\n",
       "      <td>1</td>\n",
       "      <td>1</td>\n",
       "      <td>0</td>\n",
       "      <td>0</td>\n",
       "      <td>4583</td>\n",
       "      <td>1508.0</td>\n",
       "      <td>128.0</td>\n",
       "      <td>360.0</td>\n",
       "      <td>1.0</td>\n",
       "      <td>0</td>\n",
       "      <td>0</td>\n",
       "    </tr>\n",
       "    <tr>\n",
       "      <th>2</th>\n",
       "      <td>1</td>\n",
       "      <td>1</td>\n",
       "      <td>0</td>\n",
       "      <td>0</td>\n",
       "      <td>1</td>\n",
       "      <td>3000</td>\n",
       "      <td>0.0</td>\n",
       "      <td>66.0</td>\n",
       "      <td>360.0</td>\n",
       "      <td>1.0</td>\n",
       "      <td>2</td>\n",
       "      <td>1</td>\n",
       "    </tr>\n",
       "    <tr>\n",
       "      <th>3</th>\n",
       "      <td>1</td>\n",
       "      <td>1</td>\n",
       "      <td>0</td>\n",
       "      <td>1</td>\n",
       "      <td>0</td>\n",
       "      <td>2583</td>\n",
       "      <td>2358.0</td>\n",
       "      <td>120.0</td>\n",
       "      <td>360.0</td>\n",
       "      <td>1.0</td>\n",
       "      <td>2</td>\n",
       "      <td>1</td>\n",
       "    </tr>\n",
       "    <tr>\n",
       "      <th>4</th>\n",
       "      <td>1</td>\n",
       "      <td>0</td>\n",
       "      <td>0</td>\n",
       "      <td>0</td>\n",
       "      <td>0</td>\n",
       "      <td>6000</td>\n",
       "      <td>0.0</td>\n",
       "      <td>141.0</td>\n",
       "      <td>360.0</td>\n",
       "      <td>1.0</td>\n",
       "      <td>2</td>\n",
       "      <td>1</td>\n",
       "    </tr>\n",
       "    <tr>\n",
       "      <th>...</th>\n",
       "      <td>...</td>\n",
       "      <td>...</td>\n",
       "      <td>...</td>\n",
       "      <td>...</td>\n",
       "      <td>...</td>\n",
       "      <td>...</td>\n",
       "      <td>...</td>\n",
       "      <td>...</td>\n",
       "      <td>...</td>\n",
       "      <td>...</td>\n",
       "      <td>...</td>\n",
       "      <td>...</td>\n",
       "    </tr>\n",
       "    <tr>\n",
       "      <th>609</th>\n",
       "      <td>0</td>\n",
       "      <td>0</td>\n",
       "      <td>0</td>\n",
       "      <td>0</td>\n",
       "      <td>0</td>\n",
       "      <td>2900</td>\n",
       "      <td>0.0</td>\n",
       "      <td>71.0</td>\n",
       "      <td>360.0</td>\n",
       "      <td>1.0</td>\n",
       "      <td>0</td>\n",
       "      <td>1</td>\n",
       "    </tr>\n",
       "    <tr>\n",
       "      <th>610</th>\n",
       "      <td>1</td>\n",
       "      <td>1</td>\n",
       "      <td>3</td>\n",
       "      <td>0</td>\n",
       "      <td>0</td>\n",
       "      <td>4106</td>\n",
       "      <td>0.0</td>\n",
       "      <td>40.0</td>\n",
       "      <td>180.0</td>\n",
       "      <td>1.0</td>\n",
       "      <td>0</td>\n",
       "      <td>1</td>\n",
       "    </tr>\n",
       "    <tr>\n",
       "      <th>611</th>\n",
       "      <td>1</td>\n",
       "      <td>1</td>\n",
       "      <td>1</td>\n",
       "      <td>0</td>\n",
       "      <td>0</td>\n",
       "      <td>8072</td>\n",
       "      <td>240.0</td>\n",
       "      <td>253.0</td>\n",
       "      <td>360.0</td>\n",
       "      <td>1.0</td>\n",
       "      <td>2</td>\n",
       "      <td>1</td>\n",
       "    </tr>\n",
       "    <tr>\n",
       "      <th>612</th>\n",
       "      <td>1</td>\n",
       "      <td>1</td>\n",
       "      <td>2</td>\n",
       "      <td>0</td>\n",
       "      <td>0</td>\n",
       "      <td>7583</td>\n",
       "      <td>0.0</td>\n",
       "      <td>187.0</td>\n",
       "      <td>360.0</td>\n",
       "      <td>1.0</td>\n",
       "      <td>2</td>\n",
       "      <td>1</td>\n",
       "    </tr>\n",
       "    <tr>\n",
       "      <th>613</th>\n",
       "      <td>0</td>\n",
       "      <td>0</td>\n",
       "      <td>0</td>\n",
       "      <td>0</td>\n",
       "      <td>1</td>\n",
       "      <td>4583</td>\n",
       "      <td>0.0</td>\n",
       "      <td>133.0</td>\n",
       "      <td>360.0</td>\n",
       "      <td>0.0</td>\n",
       "      <td>1</td>\n",
       "      <td>0</td>\n",
       "    </tr>\n",
       "  </tbody>\n",
       "</table>\n",
       "<p>614 rows × 12 columns</p>\n",
       "</div>"
      ],
      "text/plain": [
       "     Gender  Married  Dependents  Education  Self_Employed  ApplicantIncome  \\\n",
       "0         1        0           0          0              0             5849   \n",
       "1         1        1           1          0              0             4583   \n",
       "2         1        1           0          0              1             3000   \n",
       "3         1        1           0          1              0             2583   \n",
       "4         1        0           0          0              0             6000   \n",
       "..      ...      ...         ...        ...            ...              ...   \n",
       "609       0        0           0          0              0             2900   \n",
       "610       1        1           3          0              0             4106   \n",
       "611       1        1           1          0              0             8072   \n",
       "612       1        1           2          0              0             7583   \n",
       "613       0        0           0          0              1             4583   \n",
       "\n",
       "     CoapplicantIncome  LoanAmount  Loan_Amount_Term  Credit_History  \\\n",
       "0                  0.0       128.0             360.0             1.0   \n",
       "1               1508.0       128.0             360.0             1.0   \n",
       "2                  0.0        66.0             360.0             1.0   \n",
       "3               2358.0       120.0             360.0             1.0   \n",
       "4                  0.0       141.0             360.0             1.0   \n",
       "..                 ...         ...               ...             ...   \n",
       "609                0.0        71.0             360.0             1.0   \n",
       "610                0.0        40.0             180.0             1.0   \n",
       "611              240.0       253.0             360.0             1.0   \n",
       "612                0.0       187.0             360.0             1.0   \n",
       "613                0.0       133.0             360.0             0.0   \n",
       "\n",
       "     Property_Area  Loan_Status  \n",
       "0                2            1  \n",
       "1                0            0  \n",
       "2                2            1  \n",
       "3                2            1  \n",
       "4                2            1  \n",
       "..             ...          ...  \n",
       "609              0            1  \n",
       "610              0            1  \n",
       "611              2            1  \n",
       "612              2            1  \n",
       "613              1            0  \n",
       "\n",
       "[614 rows x 12 columns]"
      ]
     },
     "execution_count": 65,
     "metadata": {},
     "output_type": "execute_result"
    }
   ],
   "source": [
    "# dropping the Loan_ID Column as it isnot adding any information to it\n",
    "df=df.drop(['Loan_ID'], axis=1)\n",
    "df"
   ]
  },
  {
   "cell_type": "code",
   "execution_count": 66,
   "id": "655a926a",
   "metadata": {},
   "outputs": [
    {
     "data": {
      "text/plain": [
       "(614, 12)"
      ]
     },
     "execution_count": 66,
     "metadata": {},
     "output_type": "execute_result"
    }
   ],
   "source": [
    "# Treating outliers with zscore\n",
    "# importing the zscore\n",
    "from scipy.stats import zscore\n",
    "z=np.abs(zscore(df))\n",
    "z.shape"
   ]
  },
  {
   "cell_type": "code",
   "execution_count": 67,
   "id": "520ee5c3",
   "metadata": {},
   "outputs": [
    {
     "name": "stdout",
     "output_type": "stream",
     "text": [
      "(array([  9,  14,  68,  94, 126, 130, 133, 155, 155, 171, 171, 177, 177,\n",
      "       183, 185, 242, 262, 278, 308, 313, 333, 333, 369, 402, 409, 417,\n",
      "       432, 443, 487, 495, 497, 506, 523, 525, 546, 561, 575, 581, 585,\n",
      "       600, 604], dtype=int64), array([6, 8, 8, 8, 5, 7, 8, 5, 7, 5, 7, 6, 7, 5, 5, 8, 8, 7, 7, 8, 5, 7,\n",
      "       7, 6, 5, 6, 7, 5, 7, 8, 8, 7, 7, 7, 8, 7, 8, 6, 8, 6, 7],\n",
      "      dtype=int64))\n"
     ]
    }
   ],
   "source": [
    "# Setting threshold at 3 and detecting the outliers\n",
    "threshold=3\n",
    "print(np.where(z>3))"
   ]
  },
  {
   "cell_type": "code",
   "execution_count": 68,
   "id": "6502cee0",
   "metadata": {},
   "outputs": [
    {
     "data": {
      "text/plain": [
       "(577, 12)"
      ]
     },
     "execution_count": 68,
     "metadata": {},
     "output_type": "execute_result"
    }
   ],
   "source": [
    "# Removing the outlier \n",
    "df=df[(z<3).all(axis=1)]\n",
    "df.shape"
   ]
  },
  {
   "cell_type": "code",
   "execution_count": 69,
   "id": "cfaedab3",
   "metadata": {},
   "outputs": [
    {
     "data": {
      "text/plain": [
       "6.412478336221837"
      ]
     },
     "execution_count": 69,
     "metadata": {},
     "output_type": "execute_result"
    }
   ],
   "source": [
    "#calculating loss\n",
    "loss=(614-577)/577*100\n",
    "loss"
   ]
  },
  {
   "cell_type": "markdown",
   "id": "f5346dce",
   "metadata": {},
   "source": [
    "**As we can see that the loss of data is only 6% hence we can drop the ouliers from the dataframe**"
   ]
  },
  {
   "cell_type": "code",
   "execution_count": 70,
   "id": "98baa286",
   "metadata": {},
   "outputs": [
    {
     "name": "stdout",
     "output_type": "stream",
     "text": [
      "(577, 11)\n",
      "(577,)\n"
     ]
    }
   ],
   "source": [
    "# Separating the dataset into inputs and target (in x and y)\n",
    "x=df.drop(['Loan_Status'],axis=1)\n",
    "y=df['Loan_Status']\n",
    "print(x.shape)\n",
    "print(y.shape)"
   ]
  },
  {
   "cell_type": "code",
   "execution_count": 71,
   "id": "a5ff84e1",
   "metadata": {},
   "outputs": [
    {
     "data": {
      "text/plain": [
       "array([[ 0.47713685, -1.36251079, -0.80924269, ...,  0.13078824,\n",
       "         0.41851254,  1.1948064 ],\n",
       "       [ 0.47713685,  0.73393914,  0.90286851, ...,  0.13078824,\n",
       "         0.41851254, -1.34019905],\n",
       "       [ 0.47713685,  0.73393914, -0.80924269, ...,  0.13078824,\n",
       "         0.41851254,  1.1948064 ],\n",
       "       ...,\n",
       "       [ 0.47713685,  0.73393914,  0.90286851, ...,  0.13078824,\n",
       "         0.41851254,  1.1948064 ],\n",
       "       [ 0.47713685,  0.73393914,  1.34467098, ...,  0.13078824,\n",
       "         0.41851254,  1.1948064 ],\n",
       "       [-2.09583477, -1.36251079, -0.80924269, ...,  0.13078824,\n",
       "        -2.38941464,  0.01546372]])"
      ]
     },
     "execution_count": 71,
     "metadata": {},
     "output_type": "execute_result"
    }
   ],
   "source": [
    "# Removing Skewness Using Power Transform\n",
    "from sklearn.preprocessing import power_transform\n",
    "X=power_transform(x, method='yeo-johnson')\n",
    "X"
   ]
  },
  {
   "cell_type": "code",
   "execution_count": 72,
   "id": "23250c9a",
   "metadata": {},
   "outputs": [
    {
     "data": {
      "text/plain": [
       "0    -1.622920\n",
       "1    -0.630211\n",
       "2     0.478360\n",
       "3     1.306588\n",
       "4     2.252848\n",
       "5     0.027981\n",
       "6    -0.191876\n",
       "7     0.048425\n",
       "8     0.727533\n",
       "9    -1.976043\n",
       "10   -0.155094\n",
       "dtype: float64"
      ]
     },
     "execution_count": 72,
     "metadata": {},
     "output_type": "execute_result"
    }
   ],
   "source": [
    "#checking for skewness is removed or not\n",
    "skew_df=pd.DataFrame(X)\n",
    "skew_df.skew()"
   ]
  },
  {
   "cell_type": "markdown",
   "id": "091c3032",
   "metadata": {},
   "source": [
    "**As we can see that the skewness is being removed from the numerical columns and are in the acceptable range 0.5 to -0.5**"
   ]
  },
  {
   "cell_type": "code",
   "execution_count": 73,
   "id": "7eb9704a",
   "metadata": {},
   "outputs": [
    {
     "data": {
      "text/plain": [
       "array([[ 0.47713685, -1.36251079, -0.80924269, ...,  0.13078824,\n",
       "         0.41851254,  1.1948064 ],\n",
       "       [ 0.47713685,  0.73393914,  0.90286851, ...,  0.13078824,\n",
       "         0.41851254, -1.34019905],\n",
       "       [ 0.47713685,  0.73393914, -0.80924269, ...,  0.13078824,\n",
       "         0.41851254,  1.1948064 ],\n",
       "       ...,\n",
       "       [ 0.47713685,  0.73393914,  0.90286851, ...,  0.13078824,\n",
       "         0.41851254,  1.1948064 ],\n",
       "       [ 0.47713685,  0.73393914,  1.34467098, ...,  0.13078824,\n",
       "         0.41851254,  1.1948064 ],\n",
       "       [-2.09583477, -1.36251079, -0.80924269, ...,  0.13078824,\n",
       "        -2.38941464,  0.01546372]])"
      ]
     },
     "execution_count": 73,
     "metadata": {},
     "output_type": "execute_result"
    }
   ],
   "source": [
    "#importing the StandardScaler\n",
    "from sklearn.preprocessing import StandardScaler\n",
    "ss=StandardScaler()\n",
    "X=ss.fit_transform(X)\n",
    "X"
   ]
  },
  {
   "cell_type": "markdown",
   "id": "9820c039",
   "metadata": {},
   "source": [
    "**Balancing the dataset for modelling**"
   ]
  },
  {
   "cell_type": "code",
   "execution_count": 75,
   "id": "5402acb5",
   "metadata": {},
   "outputs": [
    {
     "data": {
      "text/plain": [
       "1    398\n",
       "0    179\n",
       "Name: Loan_Status, dtype: int64"
      ]
     },
     "execution_count": 75,
     "metadata": {},
     "output_type": "execute_result"
    }
   ],
   "source": [
    "y.value_counts()"
   ]
  },
  {
   "cell_type": "code",
   "execution_count": 76,
   "id": "01c3a815",
   "metadata": {},
   "outputs": [
    {
     "data": {
      "text/plain": [
       "1    398\n",
       "0    398\n",
       "Name: Loan_Status, dtype: int64"
      ]
     },
     "execution_count": 76,
     "metadata": {},
     "output_type": "execute_result"
    }
   ],
   "source": [
    "# Importing Libraries for it \n",
    "from imblearn.over_sampling import SMOTE\n",
    "sm=SMOTE()\n",
    "X,Y=sm.fit_resample(X,y)\n",
    "Y.value_counts()"
   ]
  },
  {
   "cell_type": "markdown",
   "id": "723a6c5c",
   "metadata": {},
   "source": [
    "**Modelling the data**"
   ]
  },
  {
   "cell_type": "code",
   "execution_count": 77,
   "id": "16f66d30",
   "metadata": {},
   "outputs": [],
   "source": [
    "# importing necessary libraries\n",
    "from sklearn.model_selection import train_test_split\n",
    "from sklearn.linear_model import LogisticRegression\n",
    "from sklearn.metrics import accuracy_score, confusion_matrix, classification_report\n",
    "lg=LogisticRegression()"
   ]
  },
  {
   "cell_type": "code",
   "execution_count": 78,
   "id": "6521c1ab",
   "metadata": {
    "scrolled": false
   },
   "outputs": [
    {
     "name": "stdout",
     "output_type": "stream",
     "text": [
      "At Random State  1\n",
      "testing accuracy 0.71875 randon state 1\n",
      "Training Accuracy 0.7342767295597484 random state 1\n",
      "max accuracy 0.71875 max_random_state 1\n",
      "At Random State  2\n",
      "testing accuracy 0.6625 randon state 2\n",
      "Training Accuracy 0.7421383647798742 random state 2\n",
      "At Random State  3\n",
      "testing accuracy 0.68125 randon state 3\n",
      "Training Accuracy 0.7232704402515723 random state 3\n",
      "At Random State  4\n",
      "testing accuracy 0.76875 randon state 4\n",
      "Training Accuracy 0.7091194968553459 random state 4\n",
      "max accuracy 0.76875 max_random_state 4\n",
      "At Random State  5\n",
      "testing accuracy 0.7125 randon state 5\n",
      "Training Accuracy 0.7248427672955975 random state 5\n",
      "At Random State  6\n",
      "testing accuracy 0.70625 randon state 6\n",
      "Training Accuracy 0.7279874213836478 random state 6\n",
      "At Random State  7\n",
      "testing accuracy 0.70625 randon state 7\n",
      "Training Accuracy 0.7374213836477987 random state 7\n",
      "At Random State  8\n",
      "testing accuracy 0.66875 randon state 8\n",
      "Training Accuracy 0.7452830188679245 random state 8\n",
      "At Random State  9\n",
      "testing accuracy 0.7375 randon state 9\n",
      "Training Accuracy 0.7327044025157232 random state 9\n",
      "At Random State  10\n",
      "testing accuracy 0.7625 randon state 10\n",
      "Training Accuracy 0.7122641509433962 random state 10\n",
      "At Random State  11\n",
      "testing accuracy 0.6875 randon state 11\n",
      "Training Accuracy 0.7374213836477987 random state 11\n",
      "At Random State  12\n",
      "testing accuracy 0.7625 randon state 12\n",
      "Training Accuracy 0.7279874213836478 random state 12\n",
      "At Random State  13\n",
      "testing accuracy 0.76875 randon state 13\n",
      "Training Accuracy 0.710691823899371 random state 13\n",
      "At Random State  14\n",
      "testing accuracy 0.7 randon state 14\n",
      "Training Accuracy 0.7389937106918238 random state 14\n",
      "At Random State  15\n",
      "testing accuracy 0.68125 randon state 15\n",
      "Training Accuracy 0.7468553459119497 random state 15\n",
      "At Random State  16\n",
      "testing accuracy 0.71875 randon state 16\n",
      "Training Accuracy 0.7327044025157232 random state 16\n",
      "At Random State  17\n",
      "testing accuracy 0.65625 randon state 17\n",
      "Training Accuracy 0.7468553459119497 random state 17\n",
      "At Random State  18\n",
      "testing accuracy 0.7 randon state 18\n",
      "Training Accuracy 0.7295597484276729 random state 18\n",
      "At Random State  19\n",
      "testing accuracy 0.675 randon state 19\n",
      "Training Accuracy 0.7279874213836478 random state 19\n",
      "At Random State  20\n",
      "testing accuracy 0.71875 randon state 20\n",
      "Training Accuracy 0.7232704402515723 random state 20\n",
      "At Random State  21\n",
      "testing accuracy 0.7125 randon state 21\n",
      "Training Accuracy 0.7248427672955975 random state 21\n",
      "At Random State  22\n",
      "testing accuracy 0.73125 randon state 22\n",
      "Training Accuracy 0.7295597484276729 random state 22\n",
      "At Random State  23\n",
      "testing accuracy 0.59375 randon state 23\n",
      "Training Accuracy 0.7531446540880503 random state 23\n",
      "At Random State  24\n",
      "testing accuracy 0.7125 randon state 24\n",
      "Training Accuracy 0.7264150943396226 random state 24\n",
      "At Random State  25\n",
      "testing accuracy 0.73125 randon state 25\n",
      "Training Accuracy 0.7248427672955975 random state 25\n",
      "At Random State  26\n",
      "testing accuracy 0.6875 randon state 26\n",
      "Training Accuracy 0.7342767295597484 random state 26\n",
      "At Random State  27\n",
      "testing accuracy 0.70625 randon state 27\n",
      "Training Accuracy 0.7311320754716981 random state 27\n",
      "At Random State  28\n",
      "testing accuracy 0.725 randon state 28\n",
      "Training Accuracy 0.7091194968553459 random state 28\n",
      "At Random State  29\n",
      "testing accuracy 0.725 randon state 29\n",
      "Training Accuracy 0.7279874213836478 random state 29\n",
      "At Random State  30\n",
      "testing accuracy 0.65625 randon state 30\n",
      "Training Accuracy 0.75 random state 30\n",
      "At Random State  31\n",
      "testing accuracy 0.74375 randon state 31\n",
      "Training Accuracy 0.7248427672955975 random state 31\n",
      "At Random State  32\n",
      "testing accuracy 0.75 randon state 32\n",
      "Training Accuracy 0.7169811320754716 random state 32\n",
      "At Random State  33\n",
      "testing accuracy 0.6875 randon state 33\n",
      "Training Accuracy 0.7342767295597484 random state 33\n",
      "At Random State  34\n",
      "testing accuracy 0.7 randon state 34\n",
      "Training Accuracy 0.7358490566037735 random state 34\n",
      "At Random State  35\n",
      "testing accuracy 0.625 randon state 35\n",
      "Training Accuracy 0.7531446540880503 random state 35\n",
      "At Random State  36\n",
      "testing accuracy 0.7375 randon state 36\n",
      "Training Accuracy 0.720125786163522 random state 36\n",
      "At Random State  37\n",
      "testing accuracy 0.6625 randon state 37\n",
      "Training Accuracy 0.7468553459119497 random state 37\n",
      "At Random State  38\n",
      "testing accuracy 0.7 randon state 38\n",
      "Training Accuracy 0.7248427672955975 random state 38\n",
      "At Random State  39\n",
      "testing accuracy 0.70625 randon state 39\n",
      "Training Accuracy 0.7327044025157232 random state 39\n",
      "At Random State  40\n",
      "testing accuracy 0.7125 randon state 40\n",
      "Training Accuracy 0.7374213836477987 random state 40\n",
      "At Random State  41\n",
      "testing accuracy 0.71875 randon state 41\n",
      "Training Accuracy 0.7358490566037735 random state 41\n",
      "At Random State  42\n",
      "testing accuracy 0.69375 randon state 42\n",
      "Training Accuracy 0.7405660377358491 random state 42\n",
      "At Random State  43\n",
      "testing accuracy 0.74375 randon state 43\n",
      "Training Accuracy 0.7154088050314465 random state 43\n",
      "At Random State  44\n",
      "testing accuracy 0.71875 randon state 44\n",
      "Training Accuracy 0.720125786163522 random state 44\n",
      "At Random State  45\n",
      "testing accuracy 0.71875 randon state 45\n",
      "Training Accuracy 0.7327044025157232 random state 45\n",
      "At Random State  46\n",
      "testing accuracy 0.75 randon state 46\n",
      "Training Accuracy 0.7279874213836478 random state 46\n",
      "At Random State  47\n",
      "testing accuracy 0.65 randon state 47\n",
      "Training Accuracy 0.7547169811320755 random state 47\n",
      "At Random State  48\n",
      "testing accuracy 0.6875 randon state 48\n",
      "Training Accuracy 0.7389937106918238 random state 48\n",
      "At Random State  49\n",
      "testing accuracy 0.74375 randon state 49\n",
      "Training Accuracy 0.7248427672955975 random state 49\n",
      "At Random State  50\n",
      "testing accuracy 0.675 randon state 50\n",
      "Training Accuracy 0.7327044025157232 random state 50\n",
      "At Random State  51\n",
      "testing accuracy 0.70625 randon state 51\n",
      "Training Accuracy 0.7358490566037735 random state 51\n",
      "At Random State  52\n",
      "testing accuracy 0.7125 randon state 52\n",
      "Training Accuracy 0.7295597484276729 random state 52\n",
      "At Random State  53\n",
      "testing accuracy 0.66875 randon state 53\n",
      "Training Accuracy 0.7154088050314465 random state 53\n",
      "At Random State  54\n",
      "testing accuracy 0.71875 randon state 54\n",
      "Training Accuracy 0.7279874213836478 random state 54\n",
      "At Random State  55\n",
      "testing accuracy 0.71875 randon state 55\n",
      "Training Accuracy 0.7342767295597484 random state 55\n",
      "At Random State  56\n",
      "testing accuracy 0.7 randon state 56\n",
      "Training Accuracy 0.7295597484276729 random state 56\n",
      "At Random State  57\n",
      "testing accuracy 0.70625 randon state 57\n",
      "Training Accuracy 0.7264150943396226 random state 57\n",
      "At Random State  58\n",
      "testing accuracy 0.74375 randon state 58\n",
      "Training Accuracy 0.7279874213836478 random state 58\n",
      "At Random State  59\n",
      "testing accuracy 0.69375 randon state 59\n",
      "Training Accuracy 0.7327044025157232 random state 59\n",
      "At Random State  60\n",
      "testing accuracy 0.7375 randon state 60\n",
      "Training Accuracy 0.7248427672955975 random state 60\n",
      "At Random State  61\n",
      "testing accuracy 0.6875 randon state 61\n",
      "Training Accuracy 0.7405660377358491 random state 61\n",
      "At Random State  62\n",
      "testing accuracy 0.7125 randon state 62\n",
      "Training Accuracy 0.7342767295597484 random state 62\n",
      "At Random State  63\n",
      "testing accuracy 0.71875 randon state 63\n",
      "Training Accuracy 0.7342767295597484 random state 63\n",
      "At Random State  64\n",
      "testing accuracy 0.6375 randon state 64\n",
      "Training Accuracy 0.7358490566037735 random state 64\n",
      "At Random State  65\n",
      "testing accuracy 0.63125 randon state 65\n",
      "Training Accuracy 0.7594339622641509 random state 65\n",
      "At Random State  66\n",
      "testing accuracy 0.7 randon state 66\n",
      "Training Accuracy 0.7342767295597484 random state 66\n",
      "At Random State  67\n",
      "testing accuracy 0.7625 randon state 67\n",
      "Training Accuracy 0.7248427672955975 random state 67\n",
      "At Random State  68\n",
      "testing accuracy 0.775 randon state 68\n",
      "Training Accuracy 0.7122641509433962 random state 68\n",
      "max accuracy 0.775 max_random_state 68\n",
      "At Random State  69\n",
      "testing accuracy 0.70625 randon state 69\n",
      "Training Accuracy 0.7311320754716981 random state 69\n",
      "At Random State  70\n",
      "testing accuracy 0.725 randon state 70\n",
      "Training Accuracy 0.7342767295597484 random state 70\n",
      "At Random State  71\n",
      "testing accuracy 0.73125 randon state 71\n",
      "Training Accuracy 0.7232704402515723 random state 71\n",
      "At Random State  72\n",
      "testing accuracy 0.68125 randon state 72\n",
      "Training Accuracy 0.7279874213836478 random state 72\n",
      "At Random State  73\n",
      "testing accuracy 0.7 randon state 73\n",
      "Training Accuracy 0.7342767295597484 random state 73\n",
      "At Random State  74\n",
      "testing accuracy 0.7125 randon state 74\n",
      "Training Accuracy 0.7311320754716981 random state 74\n",
      "At Random State  75\n",
      "testing accuracy 0.7 randon state 75\n",
      "Training Accuracy 0.7358490566037735 random state 75\n",
      "At Random State  76\n",
      "testing accuracy 0.65 randon state 76\n",
      "Training Accuracy 0.7405660377358491 random state 76\n",
      "At Random State  77\n",
      "testing accuracy 0.725 randon state 77\n",
      "Training Accuracy 0.7216981132075472 random state 77\n",
      "At Random State  78\n",
      "testing accuracy 0.79375 randon state 78\n",
      "Training Accuracy 0.7075471698113207 random state 78\n",
      "max accuracy 0.79375 max_random_state 78\n",
      "At Random State  79\n",
      "testing accuracy 0.70625 randon state 79\n",
      "Training Accuracy 0.7154088050314465 random state 79\n",
      "At Random State  80\n",
      "testing accuracy 0.7 randon state 80\n",
      "Training Accuracy 0.7358490566037735 random state 80\n",
      "At Random State  81\n",
      "testing accuracy 0.74375 randon state 81\n",
      "Training Accuracy 0.7264150943396226 random state 81\n",
      "At Random State  82\n",
      "testing accuracy 0.69375 randon state 82\n",
      "Training Accuracy 0.7248427672955975 random state 82\n",
      "At Random State  83\n",
      "testing accuracy 0.74375 randon state 83\n",
      "Training Accuracy 0.7248427672955975 random state 83\n",
      "At Random State  84\n",
      "testing accuracy 0.6625 randon state 84\n",
      "Training Accuracy 0.7295597484276729 random state 84\n",
      "At Random State  85\n",
      "testing accuracy 0.6625 randon state 85\n",
      "Training Accuracy 0.7374213836477987 random state 85\n",
      "At Random State  86\n",
      "testing accuracy 0.73125 randon state 86\n",
      "Training Accuracy 0.7169811320754716 random state 86\n",
      "At Random State  87\n",
      "testing accuracy 0.70625 randon state 87\n",
      "Training Accuracy 0.7358490566037735 random state 87\n",
      "At Random State  88\n",
      "testing accuracy 0.71875 randon state 88\n",
      "Training Accuracy 0.7185534591194969 random state 88\n",
      "At Random State  89\n",
      "testing accuracy 0.70625 randon state 89\n",
      "Training Accuracy 0.7311320754716981 random state 89\n",
      "At Random State  90\n"
     ]
    },
    {
     "name": "stdout",
     "output_type": "stream",
     "text": [
      "testing accuracy 0.7125 randon state 90\n",
      "Training Accuracy 0.7374213836477987 random state 90\n",
      "At Random State  91\n",
      "testing accuracy 0.73125 randon state 91\n",
      "Training Accuracy 0.7279874213836478 random state 91\n",
      "At Random State  92\n",
      "testing accuracy 0.6875 randon state 92\n",
      "Training Accuracy 0.7342767295597484 random state 92\n",
      "At Random State  93\n",
      "testing accuracy 0.76875 randon state 93\n",
      "Training Accuracy 0.7122641509433962 random state 93\n",
      "At Random State  94\n",
      "testing accuracy 0.76875 randon state 94\n",
      "Training Accuracy 0.720125786163522 random state 94\n",
      "At Random State  95\n",
      "testing accuracy 0.75 randon state 95\n",
      "Training Accuracy 0.7154088050314465 random state 95\n",
      "At Random State  96\n",
      "testing accuracy 0.7375 randon state 96\n",
      "Training Accuracy 0.7216981132075472 random state 96\n",
      "At Random State  97\n",
      "testing accuracy 0.71875 randon state 97\n",
      "Training Accuracy 0.720125786163522 random state 97\n",
      "At Random State  98\n",
      "testing accuracy 0.7 randon state 98\n",
      "Training Accuracy 0.7389937106918238 random state 98\n",
      "At Random State  99\n",
      "testing accuracy 0.71875 randon state 99\n",
      "Training Accuracy 0.7311320754716981 random state 99\n"
     ]
    }
   ],
   "source": [
    "# Finding the random state\n",
    "maxaccu=0\n",
    "maxrs=0\n",
    "for i in range(1,100):\n",
    "    print(\"At Random State \", i)\n",
    "    Xtrain,Xtest,Ytrain,Ytest=train_test_split(X,Y,test_size=.20, random_state=i)\n",
    "    lg.fit(Xtrain,Ytrain)\n",
    "    predlg=lg.predict(Xtest)\n",
    "    trainlg=lg.predict(Xtrain)\n",
    "    acc=accuracy_score(Ytest,predlg)\n",
    "    accu=accuracy_score(Ytrain,trainlg)\n",
    "    print('testing accuracy', acc, 'randon state',i)\n",
    "    print('Training Accuracy', accu, 'random state', i)\n",
    "    if acc>maxaccu:\n",
    "        maxaccu=acc\n",
    "        maxrs=i\n",
    "        print('max accuracy', maxaccu , 'max_random_state', i)"
   ]
  },
  {
   "cell_type": "code",
   "execution_count": 79,
   "id": "d613751b",
   "metadata": {},
   "outputs": [
    {
     "name": "stdout",
     "output_type": "stream",
     "text": [
      "max accuracy 0.79375 max_random_state 99\n"
     ]
    }
   ],
   "source": [
    "# Checking for the Max. Accuracy at Random State\n",
    "print('max accuracy', maxaccu , 'max_random_state', i)"
   ]
  },
  {
   "cell_type": "code",
   "execution_count": 80,
   "id": "61fdc40f",
   "metadata": {},
   "outputs": [],
   "source": [
    "# train test split for the data with suggested random state\n",
    "X_train,X_test,Y_train,Y_test=train_test_split(X,Y,test_size=.20,random_state=99)"
   ]
  },
  {
   "cell_type": "code",
   "execution_count": 81,
   "id": "ab507cbc",
   "metadata": {},
   "outputs": [
    {
     "name": "stdout",
     "output_type": "stream",
     "text": [
      "Training accuracy is  0.7311320754716981\n",
      "0.71875\n",
      "[[43 37]\n",
      " [ 8 72]]\n",
      "              precision    recall  f1-score   support\n",
      "\n",
      "           0       0.84      0.54      0.66        80\n",
      "           1       0.66      0.90      0.76        80\n",
      "\n",
      "    accuracy                           0.72       160\n",
      "   macro avg       0.75      0.72      0.71       160\n",
      "weighted avg       0.75      0.72      0.71       160\n",
      "\n"
     ]
    }
   ],
   "source": [
    "# Checking score again for the the lr model \n",
    "lg=LogisticRegression()\n",
    "lg.fit(X_train,Y_train)\n",
    "predlg=lg.predict(X_test)\n",
    "predtrain=lg.predict(X_train)\n",
    "print(\"Training accuracy is \",accuracy_score(Y_train,predtrain))\n",
    "print(accuracy_score(Y_test,predlg))\n",
    "print(confusion_matrix(Y_test,predlg))\n",
    "print(classification_report(Y_test,predlg))"
   ]
  },
  {
   "cell_type": "code",
   "execution_count": 82,
   "id": "28715893",
   "metadata": {},
   "outputs": [],
   "source": [
    "#AUC ROC Curve\n",
    "# Importing libraries\n",
    "from sklearn.metrics import roc_curve\n",
    "from sklearn.metrics import roc_auc_score"
   ]
  },
  {
   "cell_type": "code",
   "execution_count": 83,
   "id": "776890e5",
   "metadata": {},
   "outputs": [
    {
     "data": {
      "image/png": "[encoded data removed]",
      "text/plain": [
       "<Figure size 432x288 with 1 Axes>"
      ]
     },
     "metadata": {
      "needs_background": "light"
     },
     "output_type": "display_data"
    },
    {
     "data": {
      "text/plain": [
       "0.71875"
      ]
     },
     "execution_count": 83,
     "metadata": {},
     "output_type": "execute_result"
    }
   ],
   "source": [
    "#AUC ROC curve for Decision Tree Classifier\n",
    "Y_pred_prob=lg.predict_proba(X_test)[:,1]\n",
    "fpr,tpr,threshold=roc_curve(Y_test,Y_pred_prob,pos_label=1)\n",
    "plt.plot([0,1],[0,1],'k--')\n",
    "plt.plot(fpr,tpr,label='Linear Regression')\n",
    "plt.xlabel('False positive rate')\n",
    "plt.ylabel('True positive rate')\n",
    "plt.title('Logistic Regression')\n",
    "plt.show()\n",
    "\n",
    "auc_score=roc_auc_score(Y_test,lg.predict(X_test))\n",
    "\n",
    "auc_score"
   ]
  },
  {
   "cell_type": "code",
   "execution_count": 84,
   "id": "779677cc",
   "metadata": {},
   "outputs": [
    {
     "name": "stdout",
     "output_type": "stream",
     "text": [
      "Training accuracy is  1.0\n",
      "0.8125\n",
      "[[66 14]\n",
      " [16 64]]\n",
      "              precision    recall  f1-score   support\n",
      "\n",
      "           0       0.80      0.82      0.81        80\n",
      "           1       0.82      0.80      0.81        80\n",
      "\n",
      "    accuracy                           0.81       160\n",
      "   macro avg       0.81      0.81      0.81       160\n",
      "weighted avg       0.81      0.81      0.81       160\n",
      "\n"
     ]
    }
   ],
   "source": [
    "# using DecisionTreeClassifier \n",
    "from sklearn.tree import DecisionTreeClassifier\n",
    "dtc=DecisionTreeClassifier()\n",
    "dtc.fit(X_train,Y_train)\n",
    "preddtc=dtc.predict(X_test)\n",
    "predtrain=dtc.predict(X_train)\n",
    "print(\"Training accuracy is \",accuracy_score(Y_train,predtrain))\n",
    "print(accuracy_score(Y_test,preddtc))\n",
    "print(confusion_matrix(Y_test,preddtc))\n",
    "print(classification_report(Y_test,preddtc))"
   ]
  },
  {
   "cell_type": "code",
   "execution_count": 85,
   "id": "95154339",
   "metadata": {},
   "outputs": [
    {
     "data": {
      "image/png": "[encoded data removed]",
      "text/plain": [
       "<Figure size 432x288 with 1 Axes>"
      ]
     },
     "metadata": {
      "needs_background": "light"
     },
     "output_type": "display_data"
    },
    {
     "data": {
      "text/plain": [
       "0.8124999999999999"
      ]
     },
     "execution_count": 85,
     "metadata": {},
     "output_type": "execute_result"
    }
   ],
   "source": [
    "#AUC ROC curve for Decision Tree Classifier\n",
    "Y_pred_prob=dtc.predict_proba(X_test)[:,1]\n",
    "fpr,tpr,threshold=roc_curve(Y_test,Y_pred_prob,pos_label=1)\n",
    "plt.plot([0,1],[0,1],'k--')\n",
    "plt.plot(fpr,tpr,label='Decision Tree Classifier')\n",
    "plt.xlabel('False positive rate')\n",
    "plt.ylabel('True positive rate')\n",
    "plt.title('Decision Tree Classifier')\n",
    "plt.show()\n",
    "\n",
    "auc_score=roc_auc_score(Y_test,dtc.predict(X_test))\n",
    "\n",
    "auc_score"
   ]
  },
  {
   "cell_type": "code",
   "execution_count": 86,
   "id": "4110fbb1",
   "metadata": {},
   "outputs": [
    {
     "name": "stdout",
     "output_type": "stream",
     "text": [
      "Training accuracy is  1.0\n",
      "0.85625\n",
      "[[64 16]\n",
      " [ 7 73]]\n",
      "              precision    recall  f1-score   support\n",
      "\n",
      "           0       0.90      0.80      0.85        80\n",
      "           1       0.82      0.91      0.86        80\n",
      "\n",
      "    accuracy                           0.86       160\n",
      "   macro avg       0.86      0.86      0.86       160\n",
      "weighted avg       0.86      0.86      0.86       160\n",
      "\n"
     ]
    }
   ],
   "source": [
    "# Using RandomForestClassifier\n",
    "from sklearn.ensemble import RandomForestClassifier\n",
    "rf=RandomForestClassifier()\n",
    "rf.fit(X_train,Y_train)\n",
    "predrf=rf.predict(X_test)\n",
    "predtrain=rf.predict(X_train)\n",
    "print(\"Training accuracy is \",accuracy_score(Y_train,predtrain))\n",
    "print(accuracy_score(Y_test,predrf))\n",
    "print(confusion_matrix(Y_test,predrf))\n",
    "print(classification_report(Y_test,predrf))"
   ]
  },
  {
   "cell_type": "code",
   "execution_count": 87,
   "id": "fa2de59a",
   "metadata": {},
   "outputs": [
    {
     "data": {
      "image/png": "[encoded data removed]",
      "text/plain": [
       "<Figure size 432x288 with 1 Axes>"
      ]
     },
     "metadata": {
      "needs_background": "light"
     },
     "output_type": "display_data"
    },
    {
     "data": {
      "text/plain": [
       "0.8562500000000002"
      ]
     },
     "execution_count": 87,
     "metadata": {},
     "output_type": "execute_result"
    }
   ],
   "source": [
    "#AUC ROC curve for Random Forest Classifier Classifier\n",
    "Y_pred_prob=rf.predict_proba(X_test)[:,1]\n",
    "fpr,tpr,threshold=roc_curve(Y_test,Y_pred_prob,pos_label=1)\n",
    "plt.plot([0,1],[0,1],'k--')\n",
    "plt.plot(fpr,tpr,label='Random Forest Classifier')\n",
    "plt.xlabel('False positive rate')\n",
    "plt.ylabel('True positive rate')\n",
    "plt.title('Random Forest Classifier')\n",
    "plt.show()\n",
    "\n",
    "auc_score=roc_auc_score(Y_test,rf.predict(X_test))\n",
    "\n",
    "auc_score"
   ]
  },
  {
   "cell_type": "code",
   "execution_count": 88,
   "id": "ba0cd8b8",
   "metadata": {},
   "outputs": [
    {
     "name": "stdout",
     "output_type": "stream",
     "text": [
      "Training accuracy is  0.7830188679245284\n",
      "0.75\n",
      "[[47 33]\n",
      " [ 7 73]]\n",
      "              precision    recall  f1-score   support\n",
      "\n",
      "           0       0.87      0.59      0.70        80\n",
      "           1       0.69      0.91      0.78        80\n",
      "\n",
      "    accuracy                           0.75       160\n",
      "   macro avg       0.78      0.75      0.74       160\n",
      "weighted avg       0.78      0.75      0.74       160\n",
      "\n"
     ]
    }
   ],
   "source": [
    "# Using SVC\n",
    "from sklearn.svm import SVC\n",
    "svc=SVC(probability=True)\n",
    "svc.fit(X_train,Y_train)\n",
    "predsvc=svc.predict(X_test)\n",
    "predtrain=svc.predict(X_train)\n",
    "print(\"Training accuracy is \",accuracy_score(Y_train,predtrain))\n",
    "print(accuracy_score(Y_test,predsvc))\n",
    "print(confusion_matrix(Y_test,predsvc))\n",
    "print(classification_report(Y_test,predsvc))"
   ]
  },
  {
   "cell_type": "code",
   "execution_count": 89,
   "id": "e6d5ea74",
   "metadata": {},
   "outputs": [
    {
     "data": {
      "image/png": "[encoded data removed]",
      "text/plain": [
       "<Figure size 432x288 with 1 Axes>"
      ]
     },
     "metadata": {
      "needs_background": "light"
     },
     "output_type": "display_data"
    },
    {
     "data": {
      "text/plain": [
       "0.7500000000000001"
      ]
     },
     "execution_count": 89,
     "metadata": {},
     "output_type": "execute_result"
    }
   ],
   "source": [
    "#AUC ROC curve for  SVC\n",
    "Y_pred_prob=svc.predict_proba(X_test)[:,1]\n",
    "fpr,tpr,threshold=roc_curve(Y_test,Y_pred_prob,pos_label=1)\n",
    "plt.plot([0,1],[0,1],'k--')\n",
    "plt.plot(fpr,tpr,label='SVC')\n",
    "plt.xlabel('False positive rate')\n",
    "plt.ylabel('True positive rate')\n",
    "plt.title('SVC')\n",
    "plt.show()\n",
    "\n",
    "auc_score=roc_auc_score(Y_test,svc.predict(X_test))\n",
    "\n",
    "auc_score"
   ]
  },
  {
   "cell_type": "code",
   "execution_count": 90,
   "id": "0804a220",
   "metadata": {},
   "outputs": [
    {
     "name": "stdout",
     "output_type": "stream",
     "text": [
      "Training accuracy is  0.8411949685534591\n",
      "0.75\n",
      "[[60 20]\n",
      " [20 60]]\n",
      "              precision    recall  f1-score   support\n",
      "\n",
      "           0       0.75      0.75      0.75        80\n",
      "           1       0.75      0.75      0.75        80\n",
      "\n",
      "    accuracy                           0.75       160\n",
      "   macro avg       0.75      0.75      0.75       160\n",
      "weighted avg       0.75      0.75      0.75       160\n",
      "\n"
     ]
    }
   ],
   "source": [
    "# Using KNN\n",
    "from sklearn.neighbors import KNeighborsClassifier\n",
    "knn=KNeighborsClassifier()\n",
    "knn.fit(X_train,Y_train)\n",
    "predknn=knn.predict(X_test)\n",
    "predtrain=knn.predict(X_train)\n",
    "print(\"Training accuracy is \",accuracy_score(Y_train,predtrain))\n",
    "print(accuracy_score(Y_test,predknn))\n",
    "print(confusion_matrix(Y_test,predknn))\n",
    "print(classification_report(Y_test,predknn))"
   ]
  },
  {
   "cell_type": "code",
   "execution_count": 91,
   "id": "2c1a4d9f",
   "metadata": {},
   "outputs": [
    {
     "data": {
      "image/png": "[encoded data removed]",
      "text/plain": [
       "<Figure size 432x288 with 1 Axes>"
      ]
     },
     "metadata": {
      "needs_background": "light"
     },
     "output_type": "display_data"
    },
    {
     "data": {
      "text/plain": [
       "0.75"
      ]
     },
     "execution_count": 91,
     "metadata": {},
     "output_type": "execute_result"
    }
   ],
   "source": [
    "#AUC ROC curve for  KNeighborsClassifier\n",
    "Y_pred_prob=knn.predict_proba(X_test)[:,1]\n",
    "fpr,tpr,threshold=roc_curve(Y_test,Y_pred_prob,pos_label=1)\n",
    "plt.plot([0,1],[0,1],'k--')\n",
    "plt.plot(fpr,tpr,label='KNeighborsClassifier')\n",
    "plt.xlabel('False positive rate')\n",
    "plt.ylabel('True positive rate')\n",
    "plt.title('KNeighborsClassifier')\n",
    "plt.show()\n",
    "\n",
    "auc_score=roc_auc_score(Y_test,knn.predict(X_test))\n",
    "\n",
    "auc_score"
   ]
  },
  {
   "cell_type": "code",
   "execution_count": 92,
   "id": "444344b3",
   "metadata": {},
   "outputs": [
    {
     "name": "stdout",
     "output_type": "stream",
     "text": [
      "Training accuracy is  0.8411949685534591\n",
      "0.80625\n",
      "[[56 24]\n",
      " [ 7 73]]\n",
      "              precision    recall  f1-score   support\n",
      "\n",
      "           0       0.89      0.70      0.78        80\n",
      "           1       0.75      0.91      0.82        80\n",
      "\n",
      "    accuracy                           0.81       160\n",
      "   macro avg       0.82      0.81      0.80       160\n",
      "weighted avg       0.82      0.81      0.80       160\n",
      "\n"
     ]
    }
   ],
   "source": [
    "# Using GradientBoostingClassifier\n",
    "from sklearn.ensemble import GradientBoostingClassifier\n",
    "xgb=GradientBoostingClassifier()\n",
    "xgb.fit(X_train,Y_train)\n",
    "predxgb=xgb.predict(X_test)\n",
    "predtrain=knn.predict(X_train)\n",
    "print(\"Training accuracy is \",accuracy_score(Y_train,predtrain))\n",
    "print(accuracy_score(Y_test,predxgb))\n",
    "print(confusion_matrix(Y_test,predxgb))\n",
    "print(classification_report(Y_test,predxgb))"
   ]
  },
  {
   "cell_type": "code",
   "execution_count": 93,
   "id": "78e4736a",
   "metadata": {},
   "outputs": [
    {
     "data": {
      "image/png": "[encoded data removed]",
      "text/plain": [
       "<Figure size 432x288 with 1 Axes>"
      ]
     },
     "metadata": {
      "needs_background": "light"
     },
     "output_type": "display_data"
    },
    {
     "data": {
      "text/plain": [
       "0.8062499999999999"
      ]
     },
     "execution_count": 93,
     "metadata": {},
     "output_type": "execute_result"
    }
   ],
   "source": [
    "#AUC ROC curve for  GradientBoostingClassifier\n",
    "Y_pred_prob=xgb.predict_proba(X_test)[:,1]\n",
    "fpr,tpr,threshold=roc_curve(Y_test,Y_pred_prob,pos_label=1)\n",
    "plt.plot([0,1],[0,1],'k--')\n",
    "plt.plot(fpr,tpr,label='GradientBoostingClassifier')\n",
    "plt.xlabel('False positive rate')\n",
    "plt.ylabel('True positive rate')\n",
    "plt.title('GradientBoostingClassifier')\n",
    "plt.show()\n",
    "\n",
    "auc_score=roc_auc_score(Y_test,xgb.predict(X_test))\n",
    "\n",
    "auc_score"
   ]
  },
  {
   "cell_type": "code",
   "execution_count": 94,
   "id": "7f98de87",
   "metadata": {},
   "outputs": [
    {
     "name": "stdout",
     "output_type": "stream",
     "text": [
      "Training accuracy is  0.8207547169811321\n",
      "0.775\n",
      "[[56 24]\n",
      " [12 68]]\n",
      "              precision    recall  f1-score   support\n",
      "\n",
      "           0       0.82      0.70      0.76        80\n",
      "           1       0.74      0.85      0.79        80\n",
      "\n",
      "    accuracy                           0.78       160\n",
      "   macro avg       0.78      0.77      0.77       160\n",
      "weighted avg       0.78      0.78      0.77       160\n",
      "\n"
     ]
    }
   ],
   "source": [
    "# using AdaBoostClassifier\n",
    "from sklearn.ensemble import AdaBoostClassifier\n",
    "ada=AdaBoostClassifier()\n",
    "ada.fit(X_train,Y_train)\n",
    "predada=ada.predict(X_test)\n",
    "predtrain=ada.predict(X_train)\n",
    "print(\"Training accuracy is \",accuracy_score(Y_train,predtrain))\n",
    "print(accuracy_score(Y_test,predada))\n",
    "print(confusion_matrix(Y_test,predada))\n",
    "print(classification_report(Y_test,predada))"
   ]
  },
  {
   "cell_type": "code",
   "execution_count": 95,
   "id": "8842f881",
   "metadata": {},
   "outputs": [
    {
     "data": {
      "image/png": "[encoded data removed]",
      "text/plain": [
       "<Figure size 432x288 with 1 Axes>"
      ]
     },
     "metadata": {
      "needs_background": "light"
     },
     "output_type": "display_data"
    },
    {
     "data": {
      "text/plain": [
       "0.7749999999999999"
      ]
     },
     "execution_count": 95,
     "metadata": {},
     "output_type": "execute_result"
    }
   ],
   "source": [
    "#AUC ROC curve for  AdaBoostClassifier\n",
    "Y_pred_prob=ada.predict_proba(X_test)[:,1]\n",
    "fpr,tpr,threshold=roc_curve(Y_test,Y_pred_prob,pos_label=1)\n",
    "plt.plot([0,1],[0,1],'k--')\n",
    "plt.plot(fpr,tpr,label='AdaBoostClassifier')\n",
    "plt.xlabel('False positive rate')\n",
    "plt.ylabel('True positive rate')\n",
    "plt.title('AdaBoostClassifier')\n",
    "plt.show()\n",
    "\n",
    "auc_score=roc_auc_score(Y_test,ada.predict(X_test))\n",
    "\n",
    "auc_score"
   ]
  },
  {
   "cell_type": "code",
   "execution_count": 96,
   "id": "5c35e8e6",
   "metadata": {},
   "outputs": [
    {
     "name": "stdout",
     "output_type": "stream",
     "text": [
      "Training accuracy is  0.7216981132075472\n",
      "0.725\n",
      "[[39 41]\n",
      " [ 3 77]]\n",
      "              precision    recall  f1-score   support\n",
      "\n",
      "           0       0.93      0.49      0.64        80\n",
      "           1       0.65      0.96      0.78        80\n",
      "\n",
      "    accuracy                           0.73       160\n",
      "   macro avg       0.79      0.72      0.71       160\n",
      "weighted avg       0.79      0.72      0.71       160\n",
      "\n"
     ]
    }
   ],
   "source": [
    "# Using Naive bayes (GaussianNB)\n",
    "from sklearn.naive_bayes import GaussianNB\n",
    "gnb = GaussianNB()\n",
    "gnb.fit(X_train, Y_train)\n",
    "predgnb = gnb.predict(X_test)\n",
    "predtrain=gnb.predict(X_train)\n",
    "print(\"Training accuracy is \",accuracy_score(Y_train,predtrain))\n",
    "print(accuracy_score(Y_test,predgnb))\n",
    "print(confusion_matrix(Y_test,predgnb))\n",
    "print(classification_report(Y_test,predgnb))"
   ]
  },
  {
   "cell_type": "code",
   "execution_count": 97,
   "id": "976a31bb",
   "metadata": {},
   "outputs": [
    {
     "data": {
      "image/png": "[encoded data removed]",
      "text/plain": [
       "<Figure size 432x288 with 1 Axes>"
      ]
     },
     "metadata": {
      "needs_background": "light"
     },
     "output_type": "display_data"
    },
    {
     "data": {
      "text/plain": [
       "0.725"
      ]
     },
     "execution_count": 97,
     "metadata": {},
     "output_type": "execute_result"
    }
   ],
   "source": [
    "#AUC ROC curve for  GaussianNB\n",
    "Y_pred_prob=gnb.predict_proba(X_test)[:,1]\n",
    "fpr,tpr,threshold=roc_curve(Y_test,Y_pred_prob,pos_label=1)\n",
    "plt.plot([0,1],[0,1],'k--')\n",
    "plt.plot(fpr,tpr,label=' GaussianNB')\n",
    "plt.xlabel('False positive rate')\n",
    "plt.ylabel('True positive rate')\n",
    "plt.title(' GaussianNB')\n",
    "plt.show()\n",
    "\n",
    "auc_score=roc_auc_score(Y_test,gnb.predict(X_test))\n",
    "\n",
    "auc_score"
   ]
  },
  {
   "cell_type": "code",
   "execution_count": 98,
   "id": "f7e81eab",
   "metadata": {
    "scrolled": false
   },
   "outputs": [
    {
     "name": "stdout",
     "output_type": "stream",
     "text": [
      "taking cv = 2\n",
      "Cross validation score for  LogisticRegression()  is [0.72361809 0.71356784]\n",
      "Mean of Cross Val. score is  0.7185929648241206\n",
      "taking cv = 3\n",
      "Cross validation score for  LogisticRegression()  is [0.73308271 0.7245283  0.68679245]\n",
      "Mean of Cross Val. score is  0.714801153827966\n",
      "taking cv = 4\n",
      "Cross validation score for  LogisticRegression()  is [0.71859296 0.73869347 0.72361809 0.72361809]\n",
      "Mean of Cross Val. score is  0.7261306532663316\n",
      "taking cv = 5\n",
      "Cross validation score for  LogisticRegression()  is [0.70625    0.75471698 0.74213836 0.67924528 0.73584906]\n",
      "Mean of Cross Val. score is  0.7236399371069182\n",
      "taking cv = 6\n",
      "Cross validation score for  LogisticRegression()  is [0.70676692 0.7443609  0.70676692 0.7518797  0.64393939 0.73484848]\n",
      "Mean of Cross Val. score is  0.7147603858130175\n",
      "taking cv = 7\n",
      "Cross validation score for  LogisticRegression()  is [0.72807018 0.72807018 0.73684211 0.75438596 0.71929825 0.62831858\n",
      " 0.7699115 ]\n",
      "Mean of Cross Val. score is  0.7235566793088918\n",
      "taking cv = 8\n",
      "Cross validation score for  LogisticRegression()  is [0.73       0.69       0.77       0.74       0.77777778 0.66666667\n",
      " 0.61616162 0.82828283]\n",
      "Mean of Cross Val. score is  0.7273611111111111\n",
      "taking cv = 9\n",
      "Cross validation score for  LogisticRegression()  is [0.74157303 0.66292135 0.80898876 0.69662921 0.75       0.71590909\n",
      " 0.65909091 0.65909091 0.81818182]\n",
      "Mean of Cross Val. score is  0.7235983429803655\n",
      "taking cv = 2\n",
      "Cross validation score for  DecisionTreeClassifier()  is [0.7638191  0.76633166]\n",
      "Mean of Cross Val. score is  0.7650753768844221\n",
      "taking cv = 3\n",
      "Cross validation score for  DecisionTreeClassifier()  is [0.7443609  0.78490566 0.8       ]\n",
      "Mean of Cross Val. score is  0.7764221875443326\n",
      "taking cv = 4\n",
      "Cross validation score for  DecisionTreeClassifier()  is [0.73366834 0.7638191  0.7839196  0.79396985]\n",
      "Mean of Cross Val. score is  0.7688442211055276\n",
      "taking cv = 5\n",
      "Cross validation score for  DecisionTreeClassifier()  is [0.75       0.75471698 0.81132075 0.77358491 0.8490566 ]\n",
      "Mean of Cross Val. score is  0.7877358490566039\n",
      "taking cv = 6\n",
      "Cross validation score for  DecisionTreeClassifier()  is [0.72180451 0.76691729 0.78195489 0.84962406 0.81818182 0.79545455]\n",
      "Mean of Cross Val. score is  0.7889895192526772\n",
      "taking cv = 7\n",
      "Cross validation score for  DecisionTreeClassifier()  is [0.76315789 0.66666667 0.77192982 0.78947368 0.83333333 0.81415929\n",
      " 0.75221239]\n",
      "Mean of Cross Val. score is  0.7701332978463858\n",
      "taking cv = 8\n",
      "Cross validation score for  DecisionTreeClassifier()  is [0.77       0.72       0.77       0.78       0.85858586 0.78787879\n",
      " 0.84848485 0.7979798 ]\n",
      "Mean of Cross Val. score is  0.7916161616161617\n",
      "taking cv = 9\n",
      "Cross validation score for  DecisionTreeClassifier()  is [0.73033708 0.71910112 0.79775281 0.79775281 0.875      0.86363636\n",
      " 0.76136364 0.84090909 0.77272727]\n",
      "Mean of Cross Val. score is  0.7953977982067869\n",
      "taking cv = 2\n",
      "Cross validation score for  RandomForestClassifier()  is [0.80150754 0.80904523]\n",
      "Mean of Cross Val. score is  0.8052763819095476\n",
      "taking cv = 3\n",
      "Cross validation score for  RandomForestClassifier()  is [0.78195489 0.84150943 0.85283019]\n",
      "Mean of Cross Val. score is  0.8254315032865183\n",
      "taking cv = 4\n",
      "Cross validation score for  RandomForestClassifier()  is [0.75376884 0.8241206  0.85929648 0.85427136]\n",
      "Mean of Cross Val. score is  0.8228643216080401\n",
      "taking cv = 5\n",
      "Cross validation score for  RandomForestClassifier()  is [0.75       0.80503145 0.86792453 0.85534591 0.89937107]\n",
      "Mean of Cross Val. score is  0.8355345911949685\n",
      "taking cv = 6\n",
      "Cross validation score for  RandomForestClassifier()  is [0.7593985  0.7443609  0.80451128 0.91729323 0.87121212 0.91666667]\n",
      "Mean of Cross Val. score is  0.8355737829422041\n",
      "taking cv = 7\n",
      "Cross validation score for  RandomForestClassifier()  is [0.78947368 0.71052632 0.79824561 0.9122807  0.88596491 0.92035398\n",
      " 0.92035398]\n",
      "Mean of Cross Val. score is  0.8481713132388492\n",
      "taking cv = 8\n",
      "Cross validation score for  RandomForestClassifier()  is [0.8        0.67       0.8        0.84       0.91919192 0.84848485\n",
      " 0.8989899  0.91919192]\n",
      "Mean of Cross Val. score is  0.8369823232323232\n",
      "taking cv = 9\n",
      "Cross validation score for  RandomForestClassifier()  is [0.82022472 0.6741573  0.79775281 0.76404494 0.90909091 0.93181818\n",
      " 0.86363636 0.89772727 0.92045455]\n",
      "Mean of Cross Val. score is  0.842100783112019\n",
      "taking cv = 2\n",
      "Cross validation score for  KNeighborsClassifier()  is [0.72110553 0.73115578]\n",
      "Mean of Cross Val. score is  0.7261306532663316\n",
      "taking cv = 3\n",
      "Cross validation score for  KNeighborsClassifier()  is [0.7443609  0.74716981 0.7509434 ]\n",
      "Mean of Cross Val. score is  0.7474913699342697\n",
      "taking cv = 4\n",
      "Cross validation score for  KNeighborsClassifier()  is [0.74371859 0.72361809 0.74371859 0.77386935]\n",
      "Mean of Cross Val. score is  0.7462311557788945\n",
      "taking cv = 5\n",
      "Cross validation score for  KNeighborsClassifier()  is [0.71875    0.74842767 0.76100629 0.71069182 0.76100629]\n",
      "Mean of Cross Val. score is  0.7399764150943396\n",
      "taking cv = 6\n",
      "Cross validation score for  KNeighborsClassifier()  is [0.7593985  0.72180451 0.72180451 0.79699248 0.6969697  0.75757576]\n",
      "Mean of Cross Val. score is  0.7424242424242425\n",
      "taking cv = 7\n",
      "Cross validation score for  KNeighborsClassifier()  is [0.79824561 0.73684211 0.72807018 0.78070175 0.78070175 0.71681416\n",
      " 0.7699115 ]\n",
      "Mean of Cross Val. score is  0.7587552953179408\n",
      "taking cv = 8\n",
      "Cross validation score for  KNeighborsClassifier()  is [0.81       0.72       0.81       0.74       0.78787879 0.6969697\n",
      " 0.70707071 0.77777778]\n",
      "Mean of Cross Val. score is  0.7562121212121212\n",
      "taking cv = 9\n",
      "Cross validation score for  KNeighborsClassifier()  is [0.82022472 0.74157303 0.7752809  0.6741573  0.72727273 0.80681818\n",
      " 0.67045455 0.72727273 0.77272727]\n",
      "Mean of Cross Val. score is  0.7461979344001816\n",
      "taking cv = 2\n",
      "Cross validation score for  GradientBoostingClassifier()  is [0.7638191  0.76633166]\n",
      "Mean of Cross Val. score is  0.7650753768844221\n",
      "taking cv = 3\n",
      "Cross validation score for  GradientBoostingClassifier()  is [0.71804511 0.79622642 0.83018868]\n",
      "Mean of Cross Val. score is  0.7814867357071925\n",
      "taking cv = 4\n",
      "Cross validation score for  GradientBoostingClassifier()  is [0.69849246 0.7638191  0.8241206  0.84924623]\n",
      "Mean of Cross Val. score is  0.7839195979899498\n",
      "taking cv = 5\n",
      "Cross validation score for  GradientBoostingClassifier()  is [0.6875     0.73584906 0.8490566  0.79874214 0.86163522]\n",
      "Mean of Cross Val. score is  0.7865566037735849\n",
      "taking cv = 6\n",
      "Cross validation score for  GradientBoostingClassifier()  is [0.70676692 0.69924812 0.76691729 0.87218045 0.84090909 0.86363636]\n",
      "Mean of Cross Val. score is  0.7916097060833902\n",
      "taking cv = 7\n",
      "Cross validation score for  GradientBoostingClassifier()  is [0.71052632 0.68421053 0.74561404 0.85087719 0.86842105 0.86725664\n",
      " 0.86725664]\n",
      "Mean of Cross Val. score is  0.7991660567347572\n",
      "taking cv = 8\n",
      "Cross validation score for  GradientBoostingClassifier()  is [0.72       0.68       0.77       0.82       0.84848485 0.84848485\n",
      " 0.84848485 0.86868687]\n",
      "Mean of Cross Val. score is  0.8005176767676767\n",
      "taking cv = 9\n",
      "Cross validation score for  GradientBoostingClassifier()  is [0.73033708 0.68539326 0.78651685 0.69662921 0.84090909 0.90909091\n",
      " 0.84090909 0.85227273 0.90909091]\n",
      "Mean of Cross Val. score is  0.8056832368630122\n",
      "taking cv = 2\n",
      "Cross validation score for  AdaBoostClassifier()  is [0.75125628 0.7361809 ]\n",
      "Mean of Cross Val. score is  0.7437185929648241\n",
      "taking cv = 3\n",
      "Cross validation score for  AdaBoostClassifier()  is [0.71052632 0.76226415 0.74716981]\n",
      "Mean of Cross Val. score is  0.7399867593512082\n",
      "taking cv = 4\n",
      "Cross validation score for  AdaBoostClassifier()  is [0.65326633 0.77889447 0.77889447 0.75879397]\n",
      "Mean of Cross Val. score is  0.742462311557789\n",
      "taking cv = 5\n",
      "Cross validation score for  AdaBoostClassifier()  is [0.675      0.71698113 0.7672956  0.76100629 0.81761006]\n",
      "Mean of Cross Val. score is  0.7475786163522014\n",
      "taking cv = 6\n",
      "Cross validation score for  AdaBoostClassifier()  is [0.67669173 0.71428571 0.7518797  0.81954887 0.76515152 0.84090909]\n",
      "Mean of Cross Val. score is  0.7614111035163668\n",
      "taking cv = 7\n",
      "Cross validation score for  AdaBoostClassifier()  is [0.69298246 0.68421053 0.73684211 0.78070175 0.85087719 0.77876106\n",
      " 0.83185841]\n",
      "Mean of Cross Val. score is  0.7651762148734669\n",
      "taking cv = 8\n"
     ]
    },
    {
     "name": "stdout",
     "output_type": "stream",
     "text": [
      "Cross validation score for  AdaBoostClassifier()  is [0.67       0.68       0.78       0.78       0.81818182 0.7979798\n",
      " 0.81818182 0.7979798 ]\n",
      "Mean of Cross Val. score is  0.7677904040404041\n",
      "taking cv = 9\n",
      "Cross validation score for  AdaBoostClassifier()  is [0.70786517 0.69662921 0.79775281 0.70786517 0.80681818 0.84090909\n",
      " 0.82954545 0.82954545 0.81818182]\n",
      "Mean of Cross Val. score is  0.7816791510611735\n",
      "taking cv = 2\n",
      "Cross validation score for  GaussianNB()  is [0.72110553 0.69849246]\n",
      "Mean of Cross Val. score is  0.7097989949748744\n",
      "taking cv = 3\n",
      "Cross validation score for  GaussianNB()  is [0.71428571 0.73207547 0.69433962]\n",
      "Mean of Cross Val. score is  0.7135669362084456\n",
      "taking cv = 4\n",
      "Cross validation score for  GaussianNB()  is [0.69346734 0.74874372 0.70351759 0.72864322]\n",
      "Mean of Cross Val. score is  0.7185929648241206\n",
      "taking cv = 5\n",
      "Cross validation score for  GaussianNB()  is [0.6875     0.70440252 0.77358491 0.67295597 0.73584906]\n",
      "Mean of Cross Val. score is  0.7148584905660378\n",
      "taking cv = 6\n",
      "Cross validation score for  GaussianNB()  is [0.69924812 0.72932331 0.73684211 0.72180451 0.65151515 0.75757576]\n",
      "Mean of Cross Val. score is  0.7160514923672818\n",
      "taking cv = 7\n",
      "Cross validation score for  GaussianNB()  is [0.71052632 0.68421053 0.75438596 0.74561404 0.69298246 0.62831858\n",
      " 0.79646018]\n",
      "Mean of Cross Val. score is  0.7160711513296516\n",
      "taking cv = 8\n",
      "Cross validation score for  GaussianNB()  is [0.71       0.67       0.76       0.74       0.74747475 0.65656566\n",
      " 0.62626263 0.82828283]\n",
      "Mean of Cross Val. score is  0.7173232323232324\n",
      "taking cv = 9\n",
      "Cross validation score for  GaussianNB()  is [0.73033708 0.64044944 0.7752809  0.73033708 0.75       0.70454545\n",
      " 0.67045455 0.64772727 0.82954545]\n",
      "Mean of Cross Val. score is  0.7198530246283055\n",
      "taking cv = 2\n",
      "Cross validation score for  SVC(probability=True)  is [0.74371859 0.72361809]\n",
      "Mean of Cross Val. score is  0.7336683417085428\n",
      "taking cv = 3\n",
      "Cross validation score for  SVC(probability=True)  is [0.72932331 0.73207547 0.72075472]\n",
      "Mean of Cross Val. score is  0.7273844989833074\n",
      "taking cv = 4\n",
      "Cross validation score for  SVC(probability=True)  is [0.69849246 0.73366834 0.73869347 0.75376884]\n",
      "Mean of Cross Val. score is  0.7311557788944723\n",
      "taking cv = 5\n",
      "Cross validation score for  SVC(probability=True)  is [0.7        0.74213836 0.76100629 0.68553459 0.7672956 ]\n",
      "Mean of Cross Val. score is  0.7311949685534591\n",
      "taking cv = 6\n",
      "Cross validation score for  SVC(probability=True)  is [0.71428571 0.69924812 0.70676692 0.78195489 0.67424242 0.78030303]\n",
      "Mean of Cross Val. score is  0.7261335156071999\n",
      "taking cv = 7\n",
      "Cross validation score for  SVC(probability=True)  is [0.72807018 0.71052632 0.72807018 0.77192982 0.74561404 0.65486726\n",
      " 0.78761062]\n",
      "Mean of Cross Val. score is  0.7323840574888548\n",
      "taking cv = 8\n",
      "Cross validation score for  SVC(probability=True)  is [0.72       0.68       0.77       0.7        0.80808081 0.67676768\n",
      " 0.67676768 0.7979798 ]\n",
      "Mean of Cross Val. score is  0.7286994949494949\n",
      "taking cv = 9\n",
      "Cross validation score for  SVC(probability=True)  is [0.71910112 0.66292135 0.7752809  0.68539326 0.76136364 0.77272727\n",
      " 0.65909091 0.67045455 0.80681818]\n",
      "Mean of Cross Val. score is  0.7236834638520031\n"
     ]
    }
   ],
   "source": [
    "from sklearn.model_selection import cross_val_score\n",
    "\n",
    "# validation accuracy\n",
    "\n",
    "model=[lg,dtc,rf,knn,xgb,ada,gnb,svc]\n",
    "\n",
    "for i in model:\n",
    "    for j in range(2,10):\n",
    "        print('taking cv =', j)\n",
    "        cr_score=cross_val_score(i, X, Y, cv=j)\n",
    "        print('Cross validation score for ' , i ,' is', cr_score)\n",
    "        print('Mean of Cross Val. score is ', cr_score.mean())\n"
   ]
  },
  {
   "cell_type": "markdown",
   "id": "86ddfc91",
   "metadata": {},
   "source": [
    "**Observation Made from above data modelling with different Classifiers**\n",
    "1. Data is fitting good agrrement\n",
    "2. The Random Forest Classifier is giving the accuracy 85.62% with cross val score as 84.81% at fold 7 compared with all other classifiers\n",
    "3. Hence selecting the RandomForestClassifier giving  almost 86% model accuracy.\n",
    "\n"
   ]
  },
  {
   "cell_type": "markdown",
   "id": "6939322c",
   "metadata": {},
   "source": [
    "**Hyper Parameter Tuning**"
   ]
  },
  {
   "cell_type": "code",
   "execution_count": 107,
   "id": "dcc9c4c8",
   "metadata": {},
   "outputs": [],
   "source": [
    "from sklearn.model_selection import GridSearchCV\n",
    "\n",
    "#Creating parameter list to be passed in GridSearchCV\n",
    "parameters = {\n",
    " 'max_depth': [10, 20, 30, 40, 50],\n",
    " 'max_features': ['auto', 'sqrt','log2'],\n",
    " 'n_estimators': [100, 200, 300]\n",
    "    \n",
    "} \n",
    "\n",
    "GCV=GridSearchCV(estimator=RandomForestClassifier(),\n",
    "                param_grid=parameters,\n",
    "                cv=7,\n",
    "                scoring='accuracy')"
   ]
  },
  {
   "cell_type": "code",
   "execution_count": 108,
   "id": "bff894ee",
   "metadata": {},
   "outputs": [
    {
     "data": {
      "text/html": [
       "<style>#sk-container-id-1 {color: black;background-color: white;}#sk-container-id-1 pre{padding: 0;}#sk-container-id-1 div.sk-toggleable {background-color: white;}#sk-container-id-1 label.sk-toggleable__label {cursor: pointer;display: block;width: 100%;margin-bottom: 0;padding: 0.3em;box-sizing: border-box;text-align: center;}#sk-container-id-1 label.sk-toggleable__label-arrow:before {content: \"▸\";float: left;margin-right: 0.25em;color: #696969;}#sk-container-id-1 label.sk-toggleable__label-arrow:hover:before {color: black;}#sk-container-id-1 div.sk-estimator:hover label.sk-toggleable__label-arrow:before {color: black;}#sk-container-id-1 div.sk-toggleable__content {max-height: 0;max-width: 0;overflow: hidden;text-align: left;background-color: #f0f8ff;}#sk-container-id-1 div.sk-toggleable__content pre {margin: 0.2em;color: black;border-radius: 0.25em;background-color: #f0f8ff;}#sk-container-id-1 input.sk-toggleable__control:checked~div.sk-toggleable__content {max-height: 200px;max-width: 100%;overflow: auto;}#sk-container-id-1 input.sk-toggleable__control:checked~label.sk-toggleable__label-arrow:before {content: \"▾\";}#sk-container-id-1 div.sk-estimator input.sk-toggleable__control:checked~label.sk-toggleable__label {background-color: #d4ebff;}#sk-container-id-1 div.sk-label input.sk-toggleable__control:checked~label.sk-toggleable__label {background-color: #d4ebff;}#sk-container-id-1 input.sk-hidden--visually {border: 0;clip: rect(1px 1px 1px 1px);clip: rect(1px, 1px, 1px, 1px);height: 1px;margin: -1px;overflow: hidden;padding: 0;position: absolute;width: 1px;}#sk-container-id-1 div.sk-estimator {font-family: monospace;background-color: #f0f8ff;border: 1px dotted black;border-radius: 0.25em;box-sizing: border-box;margin-bottom: 0.5em;}#sk-container-id-1 div.sk-estimator:hover {background-color: #d4ebff;}#sk-container-id-1 div.sk-parallel-item::after {content: \"\";width: 100%;border-bottom: 1px solid gray;flex-grow: 1;}#sk-container-id-1 div.sk-label:hover label.sk-toggleable__label {background-color: #d4ebff;}#sk-container-id-1 div.sk-serial::before {content: \"\";position: absolute;border-left: 1px solid gray;box-sizing: border-box;top: 0;bottom: 0;left: 50%;z-index: 0;}#sk-container-id-1 div.sk-serial {display: flex;flex-direction: column;align-items: center;background-color: white;padding-right: 0.2em;padding-left: 0.2em;position: relative;}#sk-container-id-1 div.sk-item {position: relative;z-index: 1;}#sk-container-id-1 div.sk-parallel {display: flex;align-items: stretch;justify-content: center;background-color: white;position: relative;}#sk-container-id-1 div.sk-item::before, #sk-container-id-1 div.sk-parallel-item::before {content: \"\";position: absolute;border-left: 1px solid gray;box-sizing: border-box;top: 0;bottom: 0;left: 50%;z-index: -1;}#sk-container-id-1 div.sk-parallel-item {display: flex;flex-direction: column;z-index: 1;position: relative;background-color: white;}#sk-container-id-1 div.sk-parallel-item:first-child::after {align-self: flex-end;width: 50%;}#sk-container-id-1 div.sk-parallel-item:last-child::after {align-self: flex-start;width: 50%;}#sk-container-id-1 div.sk-parallel-item:only-child::after {width: 0;}#sk-container-id-1 div.sk-dashed-wrapped {border: 1px dashed gray;margin: 0 0.4em 0.5em 0.4em;box-sizing: border-box;padding-bottom: 0.4em;background-color: white;}#sk-container-id-1 div.sk-label label {font-family: monospace;font-weight: bold;display: inline-block;line-height: 1.2em;}#sk-container-id-1 div.sk-label-container {text-align: center;}#sk-container-id-1 div.sk-container {/* jupyter's `normalize.less` sets `[hidden] { display: none; }` but bootstrap.min.css set `[hidden] { display: none !important; }` so we also need the `!important` here to be able to override the default hidden behavior on the sphinx rendered scikit-learn.org. See: https://github.com/scikit-learn/scikit-learn/issues/21755 */display: inline-block !important;position: relative;}#sk-container-id-1 div.sk-text-repr-fallback {display: none;}</style><div id=\"sk-container-id-1\" class=\"sk-top-container\"><div class=\"sk-text-repr-fallback\"><pre>GridSearchCV(cv=7, estimator=RandomForestClassifier(),\n",
       "             param_grid={&#x27;max_depth&#x27;: [10, 20, 30, 40, 50],\n",
       "                         &#x27;max_features&#x27;: [&#x27;auto&#x27;, &#x27;sqrt&#x27;, &#x27;log2&#x27;],\n",
       "                         &#x27;n_estimators&#x27;: [100, 200, 300]},\n",
       "             scoring=&#x27;accuracy&#x27;)</pre><b>In a Jupyter environment, please rerun this cell to show the HTML representation or trust the notebook. <br />On GitHub, the HTML representation is unable to render, please try loading this page with nbviewer.org.</b></div><div class=\"sk-container\" hidden><div class=\"sk-item sk-dashed-wrapped\"><div class=\"sk-label-container\"><div class=\"sk-label sk-toggleable\"><input class=\"sk-toggleable__control sk-hidden--visually\" id=\"sk-estimator-id-1\" type=\"checkbox\" ><label for=\"sk-estimator-id-1\" class=\"sk-toggleable__label sk-toggleable__label-arrow\">GridSearchCV</label><div class=\"sk-toggleable__content\"><pre>GridSearchCV(cv=7, estimator=RandomForestClassifier(),\n",
       "             param_grid={&#x27;max_depth&#x27;: [10, 20, 30, 40, 50],\n",
       "                         &#x27;max_features&#x27;: [&#x27;auto&#x27;, &#x27;sqrt&#x27;, &#x27;log2&#x27;],\n",
       "                         &#x27;n_estimators&#x27;: [100, 200, 300]},\n",
       "             scoring=&#x27;accuracy&#x27;)</pre></div></div></div><div class=\"sk-parallel\"><div class=\"sk-parallel-item\"><div class=\"sk-item\"><div class=\"sk-label-container\"><div class=\"sk-label sk-toggleable\"><input class=\"sk-toggleable__control sk-hidden--visually\" id=\"sk-estimator-id-2\" type=\"checkbox\" ><label for=\"sk-estimator-id-2\" class=\"sk-toggleable__label sk-toggleable__label-arrow\">estimator: RandomForestClassifier</label><div class=\"sk-toggleable__content\"><pre>RandomForestClassifier()</pre></div></div></div><div class=\"sk-serial\"><div class=\"sk-item\"><div class=\"sk-estimator sk-toggleable\"><input class=\"sk-toggleable__control sk-hidden--visually\" id=\"sk-estimator-id-3\" type=\"checkbox\" ><label for=\"sk-estimator-id-3\" class=\"sk-toggleable__label sk-toggleable__label-arrow\">RandomForestClassifier</label><div class=\"sk-toggleable__content\"><pre>RandomForestClassifier()</pre></div></div></div></div></div></div></div></div></div></div>"
      ],
      "text/plain": [
       "GridSearchCV(cv=7, estimator=RandomForestClassifier(),\n",
       "             param_grid={'max_depth': [10, 20, 30, 40, 50],\n",
       "                         'max_features': ['auto', 'sqrt', 'log2'],\n",
       "                         'n_estimators': [100, 200, 300]},\n",
       "             scoring='accuracy')"
      ]
     },
     "execution_count": 108,
     "metadata": {},
     "output_type": "execute_result"
    }
   ],
   "source": [
    "GCV.fit(X_train,Y_train)"
   ]
  },
  {
   "cell_type": "code",
   "execution_count": 109,
   "id": "c0807121",
   "metadata": {},
   "outputs": [
    {
     "data": {
      "text/plain": [
       "{'max_depth': 40, 'max_features': 'log2', 'n_estimators': 200}"
      ]
     },
     "execution_count": 109,
     "metadata": {},
     "output_type": "execute_result"
    }
   ],
   "source": [
    "GCV.best_params_"
   ]
  },
  {
   "cell_type": "code",
   "execution_count": 110,
   "id": "ed50d170",
   "metadata": {},
   "outputs": [
    {
     "name": "stdout",
     "output_type": "stream",
     "text": [
      "Final Accuracy is with Random Forest Classifier =  0.86875\n"
     ]
    }
   ],
   "source": [
    "# Checking score with best parameter\n",
    "final_model=RandomForestClassifier(max_depth=40,max_features='log2',n_estimators=200)\n",
    "final_model.fit(X_train,Y_train)\n",
    "predfinal=final_model.predict(X_test)\n",
    "print('Final Accuracy is with Random Forest Classifier = ',accuracy_score(Y_test,predfinal))"
   ]
  },
  {
   "cell_type": "code",
   "execution_count": 111,
   "id": "e39cf1ee",
   "metadata": {},
   "outputs": [
    {
     "data": {
      "text/plain": [
       "<function matplotlib.pyplot.show(close=None, block=None)>"
      ]
     },
     "execution_count": 111,
     "metadata": {},
     "output_type": "execute_result"
    },
    {
     "data": {
      "image/png": "[encoded data removed]",
      "text/plain": [
       "<Figure size 432x288 with 1 Axes>"
      ]
     },
     "metadata": {
      "needs_background": "light"
     },
     "output_type": "display_data"
    }
   ],
   "source": [
    "#AUC ROC of Best Estimator\n",
    "from sklearn.metrics import plot_roc_curve\n",
    "plot_roc_curve(GCV.best_estimator_,X_test,Y_test)\n",
    "plt.title('AUC ROC Curve')\n",
    "plt.show"
   ]
  },
  {
   "cell_type": "code",
   "execution_count": 112,
   "id": "d1e30f76",
   "metadata": {},
   "outputs": [
    {
     "data": {
      "text/plain": [
       "['Loan Application Status Prediction.pkl']"
      ]
     },
     "execution_count": 112,
     "metadata": {},
     "output_type": "execute_result"
    }
   ],
   "source": [
    "# Saving the Model\n",
    "import joblib\n",
    "joblib.dump(GCV.best_estimator_, \"Loan Application Status Prediction.pkl\")"
   ]
  },
  {
   "cell_type": "code",
   "execution_count": 113,
   "id": "7efbb328",
   "metadata": {},
   "outputs": [
    {
     "data": {
      "text/html": [
       "<div>\n",
       "<style scoped>\n",
       "    .dataframe tbody tr th:only-of-type {\n",
       "        vertical-align: middle;\n",
       "    }\n",
       "\n",
       "    .dataframe tbody tr th {\n",
       "        vertical-align: top;\n",
       "    }\n",
       "\n",
       "    .dataframe thead th {\n",
       "        text-align: right;\n",
       "    }\n",
       "</style>\n",
       "<table border=\"1\" class=\"dataframe\">\n",
       "  <thead>\n",
       "    <tr style=\"text-align: right;\">\n",
       "      <th></th>\n",
       "      <th>Original</th>\n",
       "      <th>Predicted</th>\n",
       "    </tr>\n",
       "  </thead>\n",
       "  <tbody>\n",
       "    <tr>\n",
       "      <th>0</th>\n",
       "      <td>0</td>\n",
       "      <td>0</td>\n",
       "    </tr>\n",
       "    <tr>\n",
       "      <th>1</th>\n",
       "      <td>1</td>\n",
       "      <td>1</td>\n",
       "    </tr>\n",
       "    <tr>\n",
       "      <th>2</th>\n",
       "      <td>1</td>\n",
       "      <td>1</td>\n",
       "    </tr>\n",
       "    <tr>\n",
       "      <th>3</th>\n",
       "      <td>1</td>\n",
       "      <td>1</td>\n",
       "    </tr>\n",
       "    <tr>\n",
       "      <th>4</th>\n",
       "      <td>1</td>\n",
       "      <td>1</td>\n",
       "    </tr>\n",
       "    <tr>\n",
       "      <th>...</th>\n",
       "      <td>...</td>\n",
       "      <td>...</td>\n",
       "    </tr>\n",
       "    <tr>\n",
       "      <th>155</th>\n",
       "      <td>1</td>\n",
       "      <td>1</td>\n",
       "    </tr>\n",
       "    <tr>\n",
       "      <th>156</th>\n",
       "      <td>1</td>\n",
       "      <td>1</td>\n",
       "    </tr>\n",
       "    <tr>\n",
       "      <th>157</th>\n",
       "      <td>1</td>\n",
       "      <td>1</td>\n",
       "    </tr>\n",
       "    <tr>\n",
       "      <th>158</th>\n",
       "      <td>0</td>\n",
       "      <td>0</td>\n",
       "    </tr>\n",
       "    <tr>\n",
       "      <th>159</th>\n",
       "      <td>0</td>\n",
       "      <td>0</td>\n",
       "    </tr>\n",
       "  </tbody>\n",
       "</table>\n",
       "<p>160 rows × 2 columns</p>\n",
       "</div>"
      ],
      "text/plain": [
       "     Original  Predicted\n",
       "0           0          0\n",
       "1           1          1\n",
       "2           1          1\n",
       "3           1          1\n",
       "4           1          1\n",
       "..        ...        ...\n",
       "155         1          1\n",
       "156         1          1\n",
       "157         1          1\n",
       "158         0          0\n",
       "159         0          0\n",
       "\n",
       "[160 rows x 2 columns]"
      ]
     },
     "execution_count": 113,
     "metadata": {},
     "output_type": "execute_result"
    }
   ],
   "source": [
    "# Conclusion\n",
    "a=np.array(Y_test)\n",
    "predicted=np.array(predfinal)\n",
    "df_con=pd.DataFrame({'Original':a,'Predicted':predicted}, index=range(len(a)))\n",
    "df_con"
   ]
  },
  {
   "cell_type": "markdown",
   "id": "d538a0cc",
   "metadata": {},
   "source": [
    "**As we can see that after the Hyper parameter tunning the model accuracy that we have got is 86.87 which is nearly 87% which considerably good** hence we can say that the model is performing well"
   ]
  },
  {
   "cell_type": "code",
   "execution_count": null,
   "id": "afdbf498",
   "metadata": {},
   "outputs": [],
   "source": []
  },
  {
   "cell_type": "code",
   "execution_count": null,
   "id": "f310b6be",
   "metadata": {},
   "outputs": [],
   "source": []
  },
  {
   "cell_type": "code",
   "execution_count": null,
   "id": "d0af4093",
   "metadata": {},
   "outputs": [],
   "source": []
  }
 ],
 "metadata": {
  "kernelspec": {
   "display_name": "Python 3 (ipykernel)",
   "language": "python",
   "name": "python3"
  },
  "language_info": {
   "codemirror_mode": {
    "name": "ipython",
    "version": 3
   },
   "file_extension": ".py",
   "mimetype": "text/x-python",
   "name": "python",
   "nbconvert_exporter": "python",
   "pygments_lexer": "ipython3",
   "version": "3.9.12"
  }
 },
 "nbformat": 4,
 "nbformat_minor": 5
}
